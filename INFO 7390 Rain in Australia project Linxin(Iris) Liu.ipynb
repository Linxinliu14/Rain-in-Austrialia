{
 "cells": [
  {
   "cell_type": "markdown",
   "metadata": {},
   "source": [
    "# Rain in Australia Project"
   ]
  },
  {
   "cell_type": "markdown",
   "metadata": {},
   "source": [
    "## Group Member: Linxin(Iris) Liu， Mingjun Wang"
   ]
  },
  {
   "cell_type": "markdown",
   "metadata": {},
   "source": [
    "Link for the data: https://www.kaggle.com/jsphyg/weather-dataset-rattle-package\n",
    "\n",
    "This dataset contains about 10 years of daily weather observations from many locations across Australia.\n",
    "RainTomorrow is the target variable to predict. It means -- did it rain the next day, Yes or No? This column is Yes if the rain for that day was 1mm or more.\n"
   ]
  },
  {
   "cell_type": "markdown",
   "metadata": {},
   "source": [
    "## Goal and Focus "
   ]
  },
  {
   "cell_type": "markdown",
   "metadata": {},
   "source": [
    "This rain in Australia project will use K-nearest neighbor(KNN), random forest, and deep neural network(DNN) to predict the weather tomorrow. In this rain in Australia data set, the “RainTomorrow” column determines whether tomorrow will rain or not. In this column, “Yes” or “1” means tomorrow will rain, “No” or “0” means tomorrow will not rain, and “2” means others. Since the “RainTomorrow” columns determines the weather tomorrow, it shall becomes our Y-value and we will use the rest of columns as the X-value and our models to predict it.\n",
    "\n",
    "As we stated before, we shall use KNN, random forest, and DNN to predict the weather tomorrow. Because knowing the weather ahead will help people get ready, when they go outside. Thus, the goal of this rain in Australia project shall be finding out the best model for predicting weather tomorrow,and getting the correctness of the prediction as high as possible. \n",
    "\n",
    "To do so, we shall record accuracy score of the prediction of each model in a data frame. As we know, accuracy score is not enough to determine whether a model is the best model for predicting weather tomorrow. Therefore, we shall use confusion matrix to compare the prediction results of KNN and random forest models. As we stated before, one of goals of this project is to getting the accuracy of the prediction as high as possible. To do so, we will use the DNN model and we will apply drop-out layer, hidden drop-out layer, and hidden drop-out layer with weighted constraints to the model. We shall use Receiver Operating Characteristic(ROC) curve to visualize the true positive rate, and record the area under ROC curve for analysis."
   ]
  },
  {
   "cell_type": "markdown",
   "metadata": {},
   "source": [
    "## Report Structure"
   ]
  },
  {
   "cell_type": "markdown",
   "metadata": {},
   "source": [
    "1. Import data and preprocess the dataset\n",
    "\n",
    "2. Using Random Forest to predict the weather for tomorrow\n",
    "        2.1 Define X and Y for the Random Forest Model\n",
    "        2.2 Using Random Forest Model to predict weather tomorrrow\n",
    "        \n",
    "3. Using K-nearest neighbor to predict weather tomorrow \n",
    "4. Using Deep Neural Network to predict the weather for tomorrow\n",
    "        4.1 Re-process the train and test dataset\n",
    "        4.2 DNN model without dropout\n",
    "        4.3 Build and compile a deep learning model with input layer dropout\n",
    "        4.4 Build and compile a deep learning model with hidden layer dropout\n",
    "        4.5 Build and compile a deep learning model with hidden layer dropout with weight constraint\n",
    "        4.6 Analysis of DNN models by using Area under ROC curve   \n",
    "5. Prediction"
   ]
  },
  {
   "cell_type": "markdown",
   "metadata": {},
   "source": [
    "### 1. Import data and preprocess the data set"
   ]
  },
  {
   "cell_type": "code",
   "execution_count": 1,
   "metadata": {},
   "outputs": [],
   "source": [
    "#Import necessary packages\n",
    "\n",
    "import matplotlib.pyplot as plt\n",
    "import seaborn as sns\n",
    "import numpy as np\n",
    "import pandas as pd\n",
    "\n",
    "# packages for Deep Neural Network (DNN)\n",
    "import tensorflow as tf\n",
    "from keras.models import Sequential\n",
    "from keras.layers import Dense,Dropout\n",
    "from keras.constraints import maxnorm\n",
    "from sklearn.metrics import classification_report,roc_curve,roc_auc_score\n",
    "\n",
    "# packages for processing the dataset\n",
    "from sklearn import preprocessing\n",
    "from pandas.api.types import is_string_dtype,is_numeric_dtype\n",
    "import joblib \n",
    "from sklearn.metrics import accuracy_score,f1_score, confusion_matrix\n",
    "from sklearn.model_selection import train_test_split\n",
    "\n",
    "# packages for randomforest, knn\n",
    "from sklearn.ensemble import RandomForestClassifier\n",
    "from sklearn.neighbors import KNeighborsClassifier\n"
   ]
  },
  {
   "cell_type": "code",
   "execution_count": 2,
   "metadata": {},
   "outputs": [],
   "source": [
    "%matplotlib inline"
   ]
  },
  {
   "cell_type": "code",
   "execution_count": 3,
   "metadata": {},
   "outputs": [
    {
     "data": {
      "text/plain": [
       "'C:\\\\Users\\\\Iris\\\\Documents\\\\INFO7390'"
      ]
     },
     "execution_count": 3,
     "metadata": {},
     "output_type": "execute_result"
    }
   ],
   "source": [
    "%pwd"
   ]
  },
  {
   "cell_type": "code",
   "execution_count": 4,
   "metadata": {},
   "outputs": [],
   "source": [
    "# Read the data set\n",
    "\n",
    "df = pd.read_csv(\"/Users/Iris/Documents/INFO7390/weatherAUS.csv\")"
   ]
  },
  {
   "cell_type": "code",
   "execution_count": 5,
   "metadata": {},
   "outputs": [
    {
     "data": {
      "text/plain": [
       "(145460, 23)"
      ]
     },
     "execution_count": 5,
     "metadata": {},
     "output_type": "execute_result"
    }
   ],
   "source": [
    "# Checking number of rows and number of columns in the dataset \n",
    "# Our data set has 145460 rows, and 23 columns\n",
    "\n",
    "df.shape"
   ]
  },
  {
   "cell_type": "code",
   "execution_count": 6,
   "metadata": {},
   "outputs": [
    {
     "data": {
      "text/html": [
       "<div>\n",
       "<style scoped>\n",
       "    .dataframe tbody tr th:only-of-type {\n",
       "        vertical-align: middle;\n",
       "    }\n",
       "\n",
       "    .dataframe tbody tr th {\n",
       "        vertical-align: top;\n",
       "    }\n",
       "\n",
       "    .dataframe thead th {\n",
       "        text-align: right;\n",
       "    }\n",
       "</style>\n",
       "<table border=\"1\" class=\"dataframe\">\n",
       "  <thead>\n",
       "    <tr style=\"text-align: right;\">\n",
       "      <th></th>\n",
       "      <th>Date</th>\n",
       "      <th>Location</th>\n",
       "      <th>MinTemp</th>\n",
       "      <th>MaxTemp</th>\n",
       "      <th>Rainfall</th>\n",
       "      <th>Evaporation</th>\n",
       "      <th>Sunshine</th>\n",
       "      <th>WindGustDir</th>\n",
       "      <th>WindGustSpeed</th>\n",
       "      <th>WindDir9am</th>\n",
       "      <th>...</th>\n",
       "      <th>Humidity9am</th>\n",
       "      <th>Humidity3pm</th>\n",
       "      <th>Pressure9am</th>\n",
       "      <th>Pressure3pm</th>\n",
       "      <th>Cloud9am</th>\n",
       "      <th>Cloud3pm</th>\n",
       "      <th>Temp9am</th>\n",
       "      <th>Temp3pm</th>\n",
       "      <th>RainToday</th>\n",
       "      <th>RainTomorrow</th>\n",
       "    </tr>\n",
       "  </thead>\n",
       "  <tbody>\n",
       "    <tr>\n",
       "      <th>0</th>\n",
       "      <td>2008-12-01</td>\n",
       "      <td>Albury</td>\n",
       "      <td>13.4</td>\n",
       "      <td>22.9</td>\n",
       "      <td>0.6</td>\n",
       "      <td>NaN</td>\n",
       "      <td>NaN</td>\n",
       "      <td>W</td>\n",
       "      <td>44.0</td>\n",
       "      <td>W</td>\n",
       "      <td>...</td>\n",
       "      <td>71.0</td>\n",
       "      <td>22.0</td>\n",
       "      <td>1007.7</td>\n",
       "      <td>1007.1</td>\n",
       "      <td>8.0</td>\n",
       "      <td>NaN</td>\n",
       "      <td>16.9</td>\n",
       "      <td>21.8</td>\n",
       "      <td>No</td>\n",
       "      <td>No</td>\n",
       "    </tr>\n",
       "    <tr>\n",
       "      <th>1</th>\n",
       "      <td>2008-12-02</td>\n",
       "      <td>Albury</td>\n",
       "      <td>7.4</td>\n",
       "      <td>25.1</td>\n",
       "      <td>0.0</td>\n",
       "      <td>NaN</td>\n",
       "      <td>NaN</td>\n",
       "      <td>WNW</td>\n",
       "      <td>44.0</td>\n",
       "      <td>NNW</td>\n",
       "      <td>...</td>\n",
       "      <td>44.0</td>\n",
       "      <td>25.0</td>\n",
       "      <td>1010.6</td>\n",
       "      <td>1007.8</td>\n",
       "      <td>NaN</td>\n",
       "      <td>NaN</td>\n",
       "      <td>17.2</td>\n",
       "      <td>24.3</td>\n",
       "      <td>No</td>\n",
       "      <td>No</td>\n",
       "    </tr>\n",
       "    <tr>\n",
       "      <th>2</th>\n",
       "      <td>2008-12-03</td>\n",
       "      <td>Albury</td>\n",
       "      <td>12.9</td>\n",
       "      <td>25.7</td>\n",
       "      <td>0.0</td>\n",
       "      <td>NaN</td>\n",
       "      <td>NaN</td>\n",
       "      <td>WSW</td>\n",
       "      <td>46.0</td>\n",
       "      <td>W</td>\n",
       "      <td>...</td>\n",
       "      <td>38.0</td>\n",
       "      <td>30.0</td>\n",
       "      <td>1007.6</td>\n",
       "      <td>1008.7</td>\n",
       "      <td>NaN</td>\n",
       "      <td>2.0</td>\n",
       "      <td>21.0</td>\n",
       "      <td>23.2</td>\n",
       "      <td>No</td>\n",
       "      <td>No</td>\n",
       "    </tr>\n",
       "    <tr>\n",
       "      <th>3</th>\n",
       "      <td>2008-12-04</td>\n",
       "      <td>Albury</td>\n",
       "      <td>9.2</td>\n",
       "      <td>28.0</td>\n",
       "      <td>0.0</td>\n",
       "      <td>NaN</td>\n",
       "      <td>NaN</td>\n",
       "      <td>NE</td>\n",
       "      <td>24.0</td>\n",
       "      <td>SE</td>\n",
       "      <td>...</td>\n",
       "      <td>45.0</td>\n",
       "      <td>16.0</td>\n",
       "      <td>1017.6</td>\n",
       "      <td>1012.8</td>\n",
       "      <td>NaN</td>\n",
       "      <td>NaN</td>\n",
       "      <td>18.1</td>\n",
       "      <td>26.5</td>\n",
       "      <td>No</td>\n",
       "      <td>No</td>\n",
       "    </tr>\n",
       "    <tr>\n",
       "      <th>4</th>\n",
       "      <td>2008-12-05</td>\n",
       "      <td>Albury</td>\n",
       "      <td>17.5</td>\n",
       "      <td>32.3</td>\n",
       "      <td>1.0</td>\n",
       "      <td>NaN</td>\n",
       "      <td>NaN</td>\n",
       "      <td>W</td>\n",
       "      <td>41.0</td>\n",
       "      <td>ENE</td>\n",
       "      <td>...</td>\n",
       "      <td>82.0</td>\n",
       "      <td>33.0</td>\n",
       "      <td>1010.8</td>\n",
       "      <td>1006.0</td>\n",
       "      <td>7.0</td>\n",
       "      <td>8.0</td>\n",
       "      <td>17.8</td>\n",
       "      <td>29.7</td>\n",
       "      <td>No</td>\n",
       "      <td>No</td>\n",
       "    </tr>\n",
       "  </tbody>\n",
       "</table>\n",
       "<p>5 rows × 23 columns</p>\n",
       "</div>"
      ],
      "text/plain": [
       "         Date Location  MinTemp  MaxTemp  Rainfall  Evaporation  Sunshine  \\\n",
       "0  2008-12-01   Albury     13.4     22.9       0.6          NaN       NaN   \n",
       "1  2008-12-02   Albury      7.4     25.1       0.0          NaN       NaN   \n",
       "2  2008-12-03   Albury     12.9     25.7       0.0          NaN       NaN   \n",
       "3  2008-12-04   Albury      9.2     28.0       0.0          NaN       NaN   \n",
       "4  2008-12-05   Albury     17.5     32.3       1.0          NaN       NaN   \n",
       "\n",
       "  WindGustDir  WindGustSpeed WindDir9am  ... Humidity9am  Humidity3pm  \\\n",
       "0           W           44.0          W  ...        71.0         22.0   \n",
       "1         WNW           44.0        NNW  ...        44.0         25.0   \n",
       "2         WSW           46.0          W  ...        38.0         30.0   \n",
       "3          NE           24.0         SE  ...        45.0         16.0   \n",
       "4           W           41.0        ENE  ...        82.0         33.0   \n",
       "\n",
       "   Pressure9am  Pressure3pm  Cloud9am  Cloud3pm  Temp9am  Temp3pm  RainToday  \\\n",
       "0       1007.7       1007.1       8.0       NaN     16.9     21.8         No   \n",
       "1       1010.6       1007.8       NaN       NaN     17.2     24.3         No   \n",
       "2       1007.6       1008.7       NaN       2.0     21.0     23.2         No   \n",
       "3       1017.6       1012.8       NaN       NaN     18.1     26.5         No   \n",
       "4       1010.8       1006.0       7.0       8.0     17.8     29.7         No   \n",
       "\n",
       "   RainTomorrow  \n",
       "0            No  \n",
       "1            No  \n",
       "2            No  \n",
       "3            No  \n",
       "4            No  \n",
       "\n",
       "[5 rows x 23 columns]"
      ]
     },
     "execution_count": 6,
     "metadata": {},
     "output_type": "execute_result"
    }
   ],
   "source": [
    "'''By taking a look of our dataset, we notice that column 'RainTomorrow' determine the weather for the next day.\n",
    "   Therefore, we shall use our models to predict it.'''\n",
    "\n",
    "df.head(5)"
   ]
  },
  {
   "cell_type": "code",
   "execution_count": 7,
   "metadata": {},
   "outputs": [
    {
     "name": "stdout",
     "output_type": "stream",
     "text": [
      "<class 'pandas.core.frame.DataFrame'>\n",
      "RangeIndex: 145460 entries, 0 to 145459\n",
      "Data columns (total 23 columns):\n",
      " #   Column         Non-Null Count   Dtype  \n",
      "---  ------         --------------   -----  \n",
      " 0   Date           145460 non-null  object \n",
      " 1   Location       145460 non-null  object \n",
      " 2   MinTemp        143975 non-null  float64\n",
      " 3   MaxTemp        144199 non-null  float64\n",
      " 4   Rainfall       142199 non-null  float64\n",
      " 5   Evaporation    82670 non-null   float64\n",
      " 6   Sunshine       75625 non-null   float64\n",
      " 7   WindGustDir    135134 non-null  object \n",
      " 8   WindGustSpeed  135197 non-null  float64\n",
      " 9   WindDir9am     134894 non-null  object \n",
      " 10  WindDir3pm     141232 non-null  object \n",
      " 11  WindSpeed9am   143693 non-null  float64\n",
      " 12  WindSpeed3pm   142398 non-null  float64\n",
      " 13  Humidity9am    142806 non-null  float64\n",
      " 14  Humidity3pm    140953 non-null  float64\n",
      " 15  Pressure9am    130395 non-null  float64\n",
      " 16  Pressure3pm    130432 non-null  float64\n",
      " 17  Cloud9am       89572 non-null   float64\n",
      " 18  Cloud3pm       86102 non-null   float64\n",
      " 19  Temp9am        143693 non-null  float64\n",
      " 20  Temp3pm        141851 non-null  float64\n",
      " 21  RainToday      142199 non-null  object \n",
      " 22  RainTomorrow   142193 non-null  object \n",
      "dtypes: float64(16), object(7)\n",
      "memory usage: 25.5+ MB\n"
     ]
    }
   ],
   "source": [
    "# Checking the data type of each columns\n",
    "\n",
    "df.info()"
   ]
  },
  {
   "cell_type": "code",
   "execution_count": 8,
   "metadata": {},
   "outputs": [
    {
     "data": {
      "image/png": "[encoded data removed]",
      "text/plain": [
       "<Figure size 1440x1440 with 2 Axes>"
      ]
     },
     "metadata": {
      "needs_background": "light"
     },
     "output_type": "display_data"
    }
   ],
   "source": [
    "# Visualizations of data set by using heatmap\n",
    "\n",
    "plt.figure(figsize=(20,20))\n",
    "sns.heatmap(df.corr())\n",
    "plt.show()"
   ]
  },
  {
   "cell_type": "markdown",
   "metadata": {},
   "source": [
    "#### RainTomorrow Column: explore the number of raining days "
   ]
  },
  {
   "cell_type": "code",
   "execution_count": 9,
   "metadata": {},
   "outputs": [
    {
     "data": {
      "image/png": "[encoded data removed]",
      "text/plain": [
       "<Figure size 432x288 with 1 Axes>"
      ]
     },
     "metadata": {
      "needs_background": "light"
     },
     "output_type": "display_data"
    }
   ],
   "source": [
    "# Visulization of numbers of raining days and numbers of not raining days\n",
    "\n",
    "plot_sns= sns.countplot(df[\"RainTomorrow\"], label='Total')"
   ]
  },
  {
   "cell_type": "code",
   "execution_count": 10,
   "metadata": {},
   "outputs": [
    {
     "name": "stdout",
     "output_type": "stream",
     "text": [
      "Rain:  110316\n",
      "Not Rain :  31877\n"
     ]
    }
   ],
   "source": [
    "# Numbers of raining days in the next day\n",
    "# Numbers of not raining days in the next day\n",
    "\n",
    "Rain, NotRain = df[\"RainTomorrow\"].value_counts()\n",
    "print('Rain: ',Rain)\n",
    "print('Not Rain : ',NotRain)"
   ]
  },
  {
   "cell_type": "markdown",
   "metadata": {},
   "source": [
    "#### How many cities in Australia and how many days are?"
   ]
  },
  {
   "cell_type": "code",
   "execution_count": 11,
   "metadata": {},
   "outputs": [
    {
     "name": "stdout",
     "output_type": "stream",
     "text": [
      "Number of cities in the Australia: 49\n",
      "Number of days: 3436\n"
     ]
    }
   ],
   "source": [
    "# Number of cities\n",
    "# Number of days\n",
    "\n",
    "print(\"Number of cities in the Australia:\", len(df[\"Location\"].unique()))\n",
    "print(\"Number of days:\", len(df[\"Date\"].unique()))"
   ]
  },
  {
   "cell_type": "markdown",
   "metadata": {},
   "source": [
    "#### What is the earliest date and the latest date in the data set?"
   ]
  },
  {
   "cell_type": "code",
   "execution_count": 12,
   "metadata": {},
   "outputs": [
    {
     "name": "stdout",
     "output_type": "stream",
     "text": [
      "The ealiest date is :  2007-11-01\n",
      "The latest date is :  2017-06-25\n"
     ]
    }
   ],
   "source": [
    "# The earliest date and the latest date:\n",
    "\n",
    "print(\"The ealiest date is : \", df[\"Date\"].min())\n",
    "print(\"The latest date is : \", df[\"Date\"].max())"
   ]
  },
  {
   "cell_type": "markdown",
   "metadata": {},
   "source": [
    "#### Explore RainToday columns "
   ]
  },
  {
   "cell_type": "code",
   "execution_count": 13,
   "metadata": {},
   "outputs": [
    {
     "data": {
      "image/png": "[encoded data removed]",
      "text/plain": [
       "<Figure size 432x288 with 1 Axes>"
      ]
     },
     "metadata": {
      "needs_background": "light"
     },
     "output_type": "display_data"
    }
   ],
   "source": [
    "# Visulization of numbers of raining days and numbers of not raining days\n",
    "\n",
    "plot_sns= sns.countplot(df[\"RainToday\"], label='Total')"
   ]
  },
  {
   "cell_type": "code",
   "execution_count": 14,
   "metadata": {},
   "outputs": [
    {
     "name": "stdout",
     "output_type": "stream",
     "text": [
      "Rain:  110319\n",
      "Not Rain :  31880\n"
     ]
    }
   ],
   "source": [
    "# Numbers of raining today\n",
    "# Numbers of not raining today\n",
    "\n",
    "Rain_to, NotRain_to = df[\"RainToday\"].value_counts()\n",
    "print('Rain: ',Rain_to)\n",
    "print('Not Rain : ',NotRain_to)"
   ]
  },
  {
   "cell_type": "markdown",
   "metadata": {},
   "source": [
    "#### Preprocessing the data set "
   ]
  },
  {
   "cell_type": "code",
   "execution_count": 15,
   "metadata": {},
   "outputs": [
    {
     "data": {
      "text/plain": [
       "<matplotlib.axes._subplots.AxesSubplot at 0x22f6234a3a0>"
      ]
     },
     "execution_count": 15,
     "metadata": {},
     "output_type": "execute_result"
    },
    {
     "data": {
      "image/png": "[encoded data removed]",
      "text/plain": [
       "<Figure size 1440x432 with 1 Axes>"
      ]
     },
     "metadata": {
      "needs_background": "light"
     },
     "output_type": "display_data"
    }
   ],
   "source": [
    "''' Deal with missing values. First, calculate the percentage of\n",
    "missing values for every column, and plot them as a bar chart'''\n",
    "\n",
    "null_vals = df.isnull().sum()/len(df)*100\n",
    "null_vals = pd.DataFrame(null_vals)\n",
    "null_vals.reset_index(inplace = True)\n",
    "null_vals.columns = [\"Feature\",\"Percent missing\"]\n",
    "plt.figure(figsize = (20,6))\n",
    "plt.xticks(rotation=45)\n",
    "sns.barplot(x = \"Feature\",y =\"Percent missing\",data = null_vals)"
   ]
  },
  {
   "cell_type": "code",
   "execution_count": 16,
   "metadata": {},
   "outputs": [
    {
     "name": "stdout",
     "output_type": "stream",
     "text": [
      "(145460, 23)\n"
     ]
    },
    {
     "data": {
      "text/html": [
       "<div>\n",
       "<style scoped>\n",
       "    .dataframe tbody tr th:only-of-type {\n",
       "        vertical-align: middle;\n",
       "    }\n",
       "\n",
       "    .dataframe tbody tr th {\n",
       "        vertical-align: top;\n",
       "    }\n",
       "\n",
       "    .dataframe thead th {\n",
       "        text-align: right;\n",
       "    }\n",
       "</style>\n",
       "<table border=\"1\" class=\"dataframe\">\n",
       "  <thead>\n",
       "    <tr style=\"text-align: right;\">\n",
       "      <th></th>\n",
       "      <th>Date</th>\n",
       "      <th>Location</th>\n",
       "      <th>MinTemp</th>\n",
       "      <th>MaxTemp</th>\n",
       "      <th>Rainfall</th>\n",
       "      <th>Evaporation</th>\n",
       "      <th>Sunshine</th>\n",
       "      <th>WindGustDir</th>\n",
       "      <th>WindGustSpeed</th>\n",
       "      <th>WindDir9am</th>\n",
       "      <th>...</th>\n",
       "      <th>Humidity9am</th>\n",
       "      <th>Humidity3pm</th>\n",
       "      <th>Pressure9am</th>\n",
       "      <th>Pressure3pm</th>\n",
       "      <th>Cloud9am</th>\n",
       "      <th>Cloud3pm</th>\n",
       "      <th>Temp9am</th>\n",
       "      <th>Temp3pm</th>\n",
       "      <th>RainToday</th>\n",
       "      <th>RainTomorrow</th>\n",
       "    </tr>\n",
       "  </thead>\n",
       "  <tbody>\n",
       "    <tr>\n",
       "      <th>0</th>\n",
       "      <td>2008-12-01</td>\n",
       "      <td>Albury</td>\n",
       "      <td>13.4</td>\n",
       "      <td>22.9</td>\n",
       "      <td>0.6</td>\n",
       "      <td>NaN</td>\n",
       "      <td>NaN</td>\n",
       "      <td>W</td>\n",
       "      <td>44.0</td>\n",
       "      <td>W</td>\n",
       "      <td>...</td>\n",
       "      <td>71.0</td>\n",
       "      <td>22.0</td>\n",
       "      <td>1007.7</td>\n",
       "      <td>1007.1</td>\n",
       "      <td>8.0</td>\n",
       "      <td>NaN</td>\n",
       "      <td>16.9</td>\n",
       "      <td>21.8</td>\n",
       "      <td>No</td>\n",
       "      <td>No</td>\n",
       "    </tr>\n",
       "    <tr>\n",
       "      <th>1</th>\n",
       "      <td>2008-12-02</td>\n",
       "      <td>Albury</td>\n",
       "      <td>7.4</td>\n",
       "      <td>25.1</td>\n",
       "      <td>0.0</td>\n",
       "      <td>NaN</td>\n",
       "      <td>NaN</td>\n",
       "      <td>WNW</td>\n",
       "      <td>44.0</td>\n",
       "      <td>NNW</td>\n",
       "      <td>...</td>\n",
       "      <td>44.0</td>\n",
       "      <td>25.0</td>\n",
       "      <td>1010.6</td>\n",
       "      <td>1007.8</td>\n",
       "      <td>NaN</td>\n",
       "      <td>NaN</td>\n",
       "      <td>17.2</td>\n",
       "      <td>24.3</td>\n",
       "      <td>No</td>\n",
       "      <td>No</td>\n",
       "    </tr>\n",
       "    <tr>\n",
       "      <th>2</th>\n",
       "      <td>2008-12-03</td>\n",
       "      <td>Albury</td>\n",
       "      <td>12.9</td>\n",
       "      <td>25.7</td>\n",
       "      <td>0.0</td>\n",
       "      <td>NaN</td>\n",
       "      <td>NaN</td>\n",
       "      <td>WSW</td>\n",
       "      <td>46.0</td>\n",
       "      <td>W</td>\n",
       "      <td>...</td>\n",
       "      <td>38.0</td>\n",
       "      <td>30.0</td>\n",
       "      <td>1007.6</td>\n",
       "      <td>1008.7</td>\n",
       "      <td>NaN</td>\n",
       "      <td>2.0</td>\n",
       "      <td>21.0</td>\n",
       "      <td>23.2</td>\n",
       "      <td>No</td>\n",
       "      <td>No</td>\n",
       "    </tr>\n",
       "  </tbody>\n",
       "</table>\n",
       "<p>3 rows × 23 columns</p>\n",
       "</div>"
      ],
      "text/plain": [
       "         Date Location  MinTemp  MaxTemp  Rainfall  Evaporation  Sunshine  \\\n",
       "0  2008-12-01   Albury     13.4     22.9       0.6          NaN       NaN   \n",
       "1  2008-12-02   Albury      7.4     25.1       0.0          NaN       NaN   \n",
       "2  2008-12-03   Albury     12.9     25.7       0.0          NaN       NaN   \n",
       "\n",
       "  WindGustDir  WindGustSpeed WindDir9am  ... Humidity9am  Humidity3pm  \\\n",
       "0           W           44.0          W  ...        71.0         22.0   \n",
       "1         WNW           44.0        NNW  ...        44.0         25.0   \n",
       "2         WSW           46.0          W  ...        38.0         30.0   \n",
       "\n",
       "   Pressure9am  Pressure3pm  Cloud9am  Cloud3pm  Temp9am  Temp3pm  RainToday  \\\n",
       "0       1007.7       1007.1       8.0       NaN     16.9     21.8         No   \n",
       "1       1010.6       1007.8       NaN       NaN     17.2     24.3         No   \n",
       "2       1007.6       1008.7       NaN       2.0     21.0     23.2         No   \n",
       "\n",
       "   RainTomorrow  \n",
       "0            No  \n",
       "1            No  \n",
       "2            No  \n",
       "\n",
       "[3 rows x 23 columns]"
      ]
     },
     "execution_count": 16,
     "metadata": {},
     "output_type": "execute_result"
    }
   ],
   "source": [
    "# Drop the columns that contains too many null values\n",
    "\n",
    "df.drop('Evaporation', axis=1)\n",
    "df.drop('Sunshine', axis=1)\n",
    "df.drop('Cloud9am', axis=1)\n",
    "df.drop('Cloud3pm', axis=1)\n",
    "\n",
    "print(df.shape)\n",
    "df.head(3)"
   ]
  },
  {
   "cell_type": "code",
   "execution_count": 17,
   "metadata": {},
   "outputs": [],
   "source": [
    "'''Define impute functions. Impute categorical NaNs with -1, \n",
    "where we add 1 to make it 0. For each \n",
    "continuous variables, we impute missing values with median values of that\n",
    "column, and for every variable\n",
    "where any rows were imputed, add a separate 'imputed or not' column'''\n",
    "\n",
    "def mydf_to_nums(my_df, feature, null_status):\n",
    "    if not is_numeric_dtype(feature):\n",
    "        my_df[null_status] = feature.cat.codes + 1\n",
    "        \n",
    "def mydf_imputer(my_df, feature, null_status, null_table):\n",
    "    if is_numeric_dtype(feature):\n",
    "        if pd.isnull(feature).sum() or (null_status in null_table):\n",
    "            my_df[null_status+'_na'] = pd.isnull(feature)\n",
    "            filler = null_table[null_status] if null_status in null_table else feature.median()\n",
    "            my_df[null_status] = feature.fillna(filler)\n",
    "            null_table[null_status] = filler\n",
    "    return null_table   \n",
    "\n",
    "def mydf_preprocessor(my_df, null_table):\n",
    "    '''null_table  = your table or None'''\n",
    "    \n",
    "    if null_table is None: \n",
    "        null_table = dict()\n",
    "    for p,q in my_df.items(): \n",
    "        null_table = mydf_imputer(my_df, q, p, null_table)\n",
    "    for p,q in my_df.items(): \n",
    "        mydf_to_nums(my_df, q, p)\n",
    "    my_df = pd.get_dummies(my_df, dummy_na = True)\n",
    "    res = [my_df, null_table]\n",
    "    return res"
   ]
  },
  {
   "cell_type": "code",
   "execution_count": 18,
   "metadata": {},
   "outputs": [],
   "source": [
    "# Define a function to convert object types and string types to category type\n",
    "\n",
    "def str_to_cat(my_df):\n",
    "    for p,q in my_df.items(): #my_df.items() is a generator in Python\n",
    "        if is_string_dtype(q): \n",
    "            my_df[p] = q.astype('category').cat.as_ordered()\n",
    "    return my_df"
   ]
  },
  {
   "cell_type": "code",
   "execution_count": 19,
   "metadata": {},
   "outputs": [
    {
     "name": "stdout",
     "output_type": "stream",
     "text": [
      "(145460, 23)\n"
     ]
    },
    {
     "data": {
      "text/html": [
       "<div>\n",
       "<style scoped>\n",
       "    .dataframe tbody tr th:only-of-type {\n",
       "        vertical-align: middle;\n",
       "    }\n",
       "\n",
       "    .dataframe tbody tr th {\n",
       "        vertical-align: top;\n",
       "    }\n",
       "\n",
       "    .dataframe thead th {\n",
       "        text-align: right;\n",
       "    }\n",
       "</style>\n",
       "<table border=\"1\" class=\"dataframe\">\n",
       "  <thead>\n",
       "    <tr style=\"text-align: right;\">\n",
       "      <th></th>\n",
       "      <th>Date</th>\n",
       "      <th>Location</th>\n",
       "      <th>MinTemp</th>\n",
       "      <th>MaxTemp</th>\n",
       "      <th>Rainfall</th>\n",
       "      <th>Evaporation</th>\n",
       "      <th>Sunshine</th>\n",
       "      <th>WindGustDir</th>\n",
       "      <th>WindGustSpeed</th>\n",
       "      <th>WindDir9am</th>\n",
       "      <th>...</th>\n",
       "      <th>Humidity9am</th>\n",
       "      <th>Humidity3pm</th>\n",
       "      <th>Pressure9am</th>\n",
       "      <th>Pressure3pm</th>\n",
       "      <th>Cloud9am</th>\n",
       "      <th>Cloud3pm</th>\n",
       "      <th>Temp9am</th>\n",
       "      <th>Temp3pm</th>\n",
       "      <th>RainToday</th>\n",
       "      <th>RainTomorrow</th>\n",
       "    </tr>\n",
       "  </thead>\n",
       "  <tbody>\n",
       "    <tr>\n",
       "      <th>0</th>\n",
       "      <td>2008-12-01</td>\n",
       "      <td>Albury</td>\n",
       "      <td>13.4</td>\n",
       "      <td>22.9</td>\n",
       "      <td>0.6</td>\n",
       "      <td>NaN</td>\n",
       "      <td>NaN</td>\n",
       "      <td>W</td>\n",
       "      <td>44.0</td>\n",
       "      <td>W</td>\n",
       "      <td>...</td>\n",
       "      <td>71.0</td>\n",
       "      <td>22.0</td>\n",
       "      <td>1007.7</td>\n",
       "      <td>1007.1</td>\n",
       "      <td>8.0</td>\n",
       "      <td>NaN</td>\n",
       "      <td>16.9</td>\n",
       "      <td>21.8</td>\n",
       "      <td>No</td>\n",
       "      <td>No</td>\n",
       "    </tr>\n",
       "    <tr>\n",
       "      <th>1</th>\n",
       "      <td>2008-12-02</td>\n",
       "      <td>Albury</td>\n",
       "      <td>7.4</td>\n",
       "      <td>25.1</td>\n",
       "      <td>0.0</td>\n",
       "      <td>NaN</td>\n",
       "      <td>NaN</td>\n",
       "      <td>WNW</td>\n",
       "      <td>44.0</td>\n",
       "      <td>NNW</td>\n",
       "      <td>...</td>\n",
       "      <td>44.0</td>\n",
       "      <td>25.0</td>\n",
       "      <td>1010.6</td>\n",
       "      <td>1007.8</td>\n",
       "      <td>NaN</td>\n",
       "      <td>NaN</td>\n",
       "      <td>17.2</td>\n",
       "      <td>24.3</td>\n",
       "      <td>No</td>\n",
       "      <td>No</td>\n",
       "    </tr>\n",
       "    <tr>\n",
       "      <th>2</th>\n",
       "      <td>2008-12-03</td>\n",
       "      <td>Albury</td>\n",
       "      <td>12.9</td>\n",
       "      <td>25.7</td>\n",
       "      <td>0.0</td>\n",
       "      <td>NaN</td>\n",
       "      <td>NaN</td>\n",
       "      <td>WSW</td>\n",
       "      <td>46.0</td>\n",
       "      <td>W</td>\n",
       "      <td>...</td>\n",
       "      <td>38.0</td>\n",
       "      <td>30.0</td>\n",
       "      <td>1007.6</td>\n",
       "      <td>1008.7</td>\n",
       "      <td>NaN</td>\n",
       "      <td>2.0</td>\n",
       "      <td>21.0</td>\n",
       "      <td>23.2</td>\n",
       "      <td>No</td>\n",
       "      <td>No</td>\n",
       "    </tr>\n",
       "  </tbody>\n",
       "</table>\n",
       "<p>3 rows × 23 columns</p>\n",
       "</div>"
      ],
      "text/plain": [
       "         Date Location  MinTemp  MaxTemp  Rainfall  Evaporation  Sunshine  \\\n",
       "0  2008-12-01   Albury     13.4     22.9       0.6          NaN       NaN   \n",
       "1  2008-12-02   Albury      7.4     25.1       0.0          NaN       NaN   \n",
       "2  2008-12-03   Albury     12.9     25.7       0.0          NaN       NaN   \n",
       "\n",
       "  WindGustDir  WindGustSpeed WindDir9am  ... Humidity9am  Humidity3pm  \\\n",
       "0           W           44.0          W  ...        71.0         22.0   \n",
       "1         WNW           44.0        NNW  ...        44.0         25.0   \n",
       "2         WSW           46.0          W  ...        38.0         30.0   \n",
       "\n",
       "   Pressure9am  Pressure3pm  Cloud9am  Cloud3pm  Temp9am  Temp3pm  RainToday  \\\n",
       "0       1007.7       1007.1       8.0       NaN     16.9     21.8         No   \n",
       "1       1010.6       1007.8       NaN       NaN     17.2     24.3         No   \n",
       "2       1007.6       1008.7       NaN       2.0     21.0     23.2         No   \n",
       "\n",
       "   RainTomorrow  \n",
       "0            No  \n",
       "1            No  \n",
       "2            No  \n",
       "\n",
       "[3 rows x 23 columns]"
      ]
     },
     "execution_count": 19,
     "metadata": {},
     "output_type": "execute_result"
    }
   ],
   "source": [
    "# Cast object type to category type\n",
    "\n",
    "df2 = str_to_cat(df)\n",
    "print(df2.shape)\n",
    "df2.head(3)"
   ]
  },
  {
   "cell_type": "code",
   "execution_count": 20,
   "metadata": {},
   "outputs": [
    {
     "name": "stdout",
     "output_type": "stream",
     "text": [
      "(145460, 39)\n"
     ]
    },
    {
     "data": {
      "text/html": [
       "<div>\n",
       "<style scoped>\n",
       "    .dataframe tbody tr th:only-of-type {\n",
       "        vertical-align: middle;\n",
       "    }\n",
       "\n",
       "    .dataframe tbody tr th {\n",
       "        vertical-align: top;\n",
       "    }\n",
       "\n",
       "    .dataframe thead th {\n",
       "        text-align: right;\n",
       "    }\n",
       "</style>\n",
       "<table border=\"1\" class=\"dataframe\">\n",
       "  <thead>\n",
       "    <tr style=\"text-align: right;\">\n",
       "      <th></th>\n",
       "      <th>Date</th>\n",
       "      <th>Location</th>\n",
       "      <th>MinTemp</th>\n",
       "      <th>MaxTemp</th>\n",
       "      <th>Rainfall</th>\n",
       "      <th>Evaporation</th>\n",
       "      <th>Sunshine</th>\n",
       "      <th>WindGustDir</th>\n",
       "      <th>WindGustSpeed</th>\n",
       "      <th>WindDir9am</th>\n",
       "      <th>...</th>\n",
       "      <th>WindSpeed9am_na</th>\n",
       "      <th>WindSpeed3pm_na</th>\n",
       "      <th>Humidity9am_na</th>\n",
       "      <th>Humidity3pm_na</th>\n",
       "      <th>Pressure9am_na</th>\n",
       "      <th>Pressure3pm_na</th>\n",
       "      <th>Cloud9am_na</th>\n",
       "      <th>Cloud3pm_na</th>\n",
       "      <th>Temp9am_na</th>\n",
       "      <th>Temp3pm_na</th>\n",
       "    </tr>\n",
       "  </thead>\n",
       "  <tbody>\n",
       "    <tr>\n",
       "      <th>0</th>\n",
       "      <td>397</td>\n",
       "      <td>3</td>\n",
       "      <td>13.4</td>\n",
       "      <td>22.9</td>\n",
       "      <td>0.6</td>\n",
       "      <td>4.8</td>\n",
       "      <td>8.4</td>\n",
       "      <td>14</td>\n",
       "      <td>44.0</td>\n",
       "      <td>14</td>\n",
       "      <td>...</td>\n",
       "      <td>False</td>\n",
       "      <td>False</td>\n",
       "      <td>False</td>\n",
       "      <td>False</td>\n",
       "      <td>False</td>\n",
       "      <td>False</td>\n",
       "      <td>False</td>\n",
       "      <td>True</td>\n",
       "      <td>False</td>\n",
       "      <td>False</td>\n",
       "    </tr>\n",
       "    <tr>\n",
       "      <th>1</th>\n",
       "      <td>398</td>\n",
       "      <td>3</td>\n",
       "      <td>7.4</td>\n",
       "      <td>25.1</td>\n",
       "      <td>0.0</td>\n",
       "      <td>4.8</td>\n",
       "      <td>8.4</td>\n",
       "      <td>15</td>\n",
       "      <td>44.0</td>\n",
       "      <td>7</td>\n",
       "      <td>...</td>\n",
       "      <td>False</td>\n",
       "      <td>False</td>\n",
       "      <td>False</td>\n",
       "      <td>False</td>\n",
       "      <td>False</td>\n",
       "      <td>False</td>\n",
       "      <td>True</td>\n",
       "      <td>True</td>\n",
       "      <td>False</td>\n",
       "      <td>False</td>\n",
       "    </tr>\n",
       "    <tr>\n",
       "      <th>2</th>\n",
       "      <td>399</td>\n",
       "      <td>3</td>\n",
       "      <td>12.9</td>\n",
       "      <td>25.7</td>\n",
       "      <td>0.0</td>\n",
       "      <td>4.8</td>\n",
       "      <td>8.4</td>\n",
       "      <td>16</td>\n",
       "      <td>46.0</td>\n",
       "      <td>14</td>\n",
       "      <td>...</td>\n",
       "      <td>False</td>\n",
       "      <td>False</td>\n",
       "      <td>False</td>\n",
       "      <td>False</td>\n",
       "      <td>False</td>\n",
       "      <td>False</td>\n",
       "      <td>True</td>\n",
       "      <td>False</td>\n",
       "      <td>False</td>\n",
       "      <td>False</td>\n",
       "    </tr>\n",
       "  </tbody>\n",
       "</table>\n",
       "<p>3 rows × 39 columns</p>\n",
       "</div>"
      ],
      "text/plain": [
       "   Date  Location  MinTemp  MaxTemp  Rainfall  Evaporation  Sunshine  \\\n",
       "0   397         3     13.4     22.9       0.6          4.8       8.4   \n",
       "1   398         3      7.4     25.1       0.0          4.8       8.4   \n",
       "2   399         3     12.9     25.7       0.0          4.8       8.4   \n",
       "\n",
       "   WindGustDir  WindGustSpeed  WindDir9am  ...  WindSpeed9am_na  \\\n",
       "0           14           44.0          14  ...            False   \n",
       "1           15           44.0           7  ...            False   \n",
       "2           16           46.0          14  ...            False   \n",
       "\n",
       "   WindSpeed3pm_na  Humidity9am_na  Humidity3pm_na  Pressure9am_na  \\\n",
       "0            False           False           False           False   \n",
       "1            False           False           False           False   \n",
       "2            False           False           False           False   \n",
       "\n",
       "   Pressure3pm_na  Cloud9am_na  Cloud3pm_na  Temp9am_na  Temp3pm_na  \n",
       "0           False        False         True       False       False  \n",
       "1           False         True         True       False       False  \n",
       "2           False         True        False       False       False  \n",
       "\n",
       "[3 rows x 39 columns]"
      ]
     },
     "execution_count": 20,
     "metadata": {},
     "output_type": "execute_result"
    }
   ],
   "source": [
    "# Filled the null values with mean using function\n",
    "\n",
    "df3,my_table = mydf_preprocessor(df2,null_table = None)\n",
    "print(df3.shape)\n",
    "df3.head(3)"
   ]
  },
  {
   "cell_type": "markdown",
   "metadata": {},
   "source": [
    "### 2. Using Random Forest to predict the weather for tomorrow "
   ]
  },
  {
   "cell_type": "markdown",
   "metadata": {},
   "source": [
    "#### 2.1 Define X and Y for the Random Forest Model"
   ]
  },
  {
   "cell_type": "markdown",
   "metadata": {},
   "source": [
    "As we stated before, RainTomorrow is our target to predict, so Y is RainTomorrow column. The rest of columns are our X."
   ]
  },
  {
   "cell_type": "code",
   "execution_count": 21,
   "metadata": {},
   "outputs": [],
   "source": [
    "# Define X, Y\n",
    "\n",
    "x= df3.drop('RainTomorrow', axis=1)\n",
    "y= df3['RainTomorrow']"
   ]
  },
  {
   "cell_type": "code",
   "execution_count": 22,
   "metadata": {},
   "outputs": [
    {
     "name": "stdout",
     "output_type": "stream",
     "text": [
      "(109095, 38) (36365, 38) (109095,) (36365,)\n"
     ]
    }
   ],
   "source": [
    "# Get train and test dataset using train_test_split\n",
    "\n",
    "x_trn, x_val, y_trn, y_val = train_test_split(x, y, random_state=1)\n",
    "print(x_trn.shape,x_val.shape,y_trn.shape,y_val.shape)"
   ]
  },
  {
   "cell_type": "markdown",
   "metadata": {},
   "source": [
    "#### 2.2 Using Random Forest Model to predict weather tomorrrow"
   ]
  },
  {
   "cell_type": "code",
   "execution_count": 23,
   "metadata": {},
   "outputs": [
    {
     "name": "stderr",
     "output_type": "stream",
     "text": [
      "[Parallel(n_jobs=4)]: Using backend ThreadingBackend with 4 concurrent workers.\n",
      "[Parallel(n_jobs=4)]: Done  42 tasks      | elapsed:    3.1s\n",
      "[Parallel(n_jobs=4)]: Done 192 tasks      | elapsed:   13.2s\n",
      "[Parallel(n_jobs=4)]: Done 200 out of 200 | elapsed:   13.9s finished\n"
     ]
    },
    {
     "data": {
      "text/plain": [
       "RandomForestClassifier(max_depth=10, n_estimators=200, n_jobs=4, verbose=True)"
      ]
     },
     "execution_count": 23,
     "metadata": {},
     "output_type": "execute_result"
    }
   ],
   "source": [
    "# Using random forest model to predict \n",
    "\n",
    "model= RandomForestClassifier(n_jobs=4, verbose=True, n_estimators=200, max_depth=10, criterion='gini', )\n",
    "\n",
    "model.fit(x_trn, y_trn)\n"
   ]
  },
  {
   "cell_type": "code",
   "execution_count": 24,
   "metadata": {},
   "outputs": [
    {
     "name": "stderr",
     "output_type": "stream",
     "text": [
      "[Parallel(n_jobs=4)]: Using backend ThreadingBackend with 4 concurrent workers.\n",
      "[Parallel(n_jobs=4)]: Done  42 tasks      | elapsed:    0.0s\n",
      "[Parallel(n_jobs=4)]: Done 192 tasks      | elapsed:    0.3s\n",
      "[Parallel(n_jobs=4)]: Done 200 out of 200 | elapsed:    0.3s finished\n"
     ]
    }
   ],
   "source": [
    "# We have accuracy score above 0.84 , which is very high\n",
    "\n",
    "y_prd = model.predict(x_val)\n",
    "accuracy_randomForest=accuracy_score(y_val,y_prd)"
   ]
  },
  {
   "cell_type": "code",
   "execution_count": 25,
   "metadata": {},
   "outputs": [
    {
     "data": {
      "text/plain": [
       "<matplotlib.axes._subplots.AxesSubplot at 0x22f670fe4f0>"
      ]
     },
     "execution_count": 25,
     "metadata": {},
     "output_type": "execute_result"
    },
    {
     "data": {
      "image/png": "[encoded data removed]",
      "text/plain": [
       "<Figure size 432x288 with 2 Axes>"
      ]
     },
     "metadata": {
      "needs_background": "light"
     },
     "output_type": "display_data"
    }
   ],
   "source": [
    "'''Using confusion_matrix to show that how many of not raining are predicted as raining and others, and how many of raining\n",
    "    are predicted as not raining and others. \n",
    "    Keep in mind that 0 means not raining, 1 means raining and 2 means others '''\n",
    "\n",
    "conf_matrix = confusion_matrix(y_val, y_prd)\n",
    "sns.heatmap(conf_matrix, annot=True, fmt=\"d\")\n",
    "\n"
   ]
  },
  {
   "cell_type": "code",
   "execution_count": 26,
   "metadata": {},
   "outputs": [
    {
     "data": {
      "text/html": [
       "<div>\n",
       "<style scoped>\n",
       "    .dataframe tbody tr th:only-of-type {\n",
       "        vertical-align: middle;\n",
       "    }\n",
       "\n",
       "    .dataframe tbody tr th {\n",
       "        vertical-align: top;\n",
       "    }\n",
       "\n",
       "    .dataframe thead th {\n",
       "        text-align: right;\n",
       "    }\n",
       "</style>\n",
       "<table border=\"1\" class=\"dataframe\">\n",
       "  <thead>\n",
       "    <tr style=\"text-align: right;\">\n",
       "      <th></th>\n",
       "      <th>Models</th>\n",
       "      <th>Accuracy score</th>\n",
       "      <th>Area under ROC curves</th>\n",
       "    </tr>\n",
       "  </thead>\n",
       "  <tbody>\n",
       "    <tr>\n",
       "      <th>0</th>\n",
       "      <td>RandomForest</td>\n",
       "      <td>0.841963</td>\n",
       "      <td>None</td>\n",
       "    </tr>\n",
       "  </tbody>\n",
       "</table>\n",
       "</div>"
      ],
      "text/plain": [
       "         Models  Accuracy score Area under ROC curves\n",
       "0  RandomForest        0.841963                  None"
      ]
     },
     "execution_count": 26,
     "metadata": {},
     "output_type": "execute_result"
    }
   ],
   "source": [
    "# Record accuracy in a dataframe\n",
    "\n",
    "result_df=pd.DataFrame(data=[[\"RandomForest\",accuracy_randomForest, None]],\n",
    "                      columns=[\"Models\", \"Accuracy score\", \"Area under ROC curves\"])\n",
    "result_df"
   ]
  },
  {
   "cell_type": "markdown",
   "metadata": {},
   "source": [
    "### 3. Using K-nearest neighbor to predict weather tomorrow"
   ]
  },
  {
   "cell_type": "code",
   "execution_count": 27,
   "metadata": {},
   "outputs": [],
   "source": [
    "# Build the knn model with KNeighborsClassifier\n",
    "# Using the x_trn, y_trn from the Random Forest section\n",
    "\n",
    "for K in range (1,10): \n",
    "    model_knn = KNeighborsClassifier(n_neighbors=K, weights = 'distance')\n",
    "    model_knn.fit(x_trn, y_trn)"
   ]
  },
  {
   "cell_type": "code",
   "execution_count": 28,
   "metadata": {},
   "outputs": [
    {
     "name": "stdout",
     "output_type": "stream",
     "text": [
      "num_neighs =  9\n",
      "accuracy_list =  0.8419634263715111\n"
     ]
    }
   ],
   "source": [
    "# Calculate the accuray score of KNN\n",
    "# Accuracy is above 0.84\n",
    "# However, KNN does not improve the accuracy of predicting weather tomorrow\n",
    "\n",
    "num_neighs = -1\n",
    "accuracy_list = 0.0\n",
    "list_acc = []\n",
    "list_nei = []\n",
    "\n",
    "y_prd1 = model_knn.predict(x_val) #  predict\n",
    "accuracy = accuracy_score(y_val, y_prd) # count accuracy score\n",
    "list_acc.append(accuracy)\n",
    "list_nei.append(K)\n",
    "if accuracy > accuracy_list:\n",
    "    num_neighs = K\n",
    "    accuracy_list = accuracy\n",
    "print(\"num_neighs = \",num_neighs)\n",
    "print(\"accuracy_list = \",accuracy_list)\n"
   ]
  },
  {
   "cell_type": "code",
   "execution_count": 29,
   "metadata": {},
   "outputs": [
    {
     "data": {
      "image/png": "[encoded data removed]",
      "text/plain": [
       "<Figure size 432x288 with 1 Axes>"
      ]
     },
     "metadata": {
      "needs_background": "light"
     },
     "output_type": "display_data"
    }
   ],
   "source": [
    "# Visualization\n",
    "Maxtemp = x_val[['MaxTemp']].values # Set maxtemp and mintemp as x and y\n",
    "Mintemp = x_val[['MinTemp']].values\n",
    "\n",
    "c1_0, c1_1 = [], []\n",
    "c2_0, c2_1 = [], []\n",
    "for i in range(len(y_prd)):\n",
    "    if y_prd[i] == 1: \n",
    "        c1_1.append(Maxtemp[i])\n",
    "        c2_1.append(Mintemp[i])\n",
    "    else:\n",
    "        c1_0.append(Maxtemp[i])\n",
    "        c2_0.append(Mintemp[i])\n",
    "\n",
    "plt.figure()\n",
    "plt.scatter(c1_0, c2_0, s=2, c='r')\n",
    "plt.scatter(c1_1, c2_1, s=2, c='g')\n",
    "plt.show()\n"
   ]
  },
  {
   "cell_type": "code",
   "execution_count": 30,
   "metadata": {},
   "outputs": [
    {
     "data": {
      "text/plain": [
       "<matplotlib.axes._subplots.AxesSubplot at 0x22f670d3fd0>"
      ]
     },
     "execution_count": 30,
     "metadata": {},
     "output_type": "execute_result"
    },
    {
     "data": {
      "image/png": "[encoded data removed]",
      "text/plain": [
       "<Figure size 432x288 with 2 Axes>"
      ]
     },
     "metadata": {
      "needs_background": "light"
     },
     "output_type": "display_data"
    }
   ],
   "source": [
    "'''Using confusion_matrix to show that how many of not raining are predicted as raining and others, and how many of raining\n",
    "    are predicted as not raining and others. \n",
    "    Keep in mind that 0 means not raining, 1 means raining and 2 means others '''\n",
    "\n",
    "'''Although the accuracy scores of the KNN model and Random Forest Model are almost the same.\n",
    "If we look at the confusion matrix, we can tell that Random Forest Model is more accurate in prediction.\n",
    "RandomForest Model has more 1(Raining days) that has to be 1(Raining day) than that of KNN Model. \n",
    "So, if we want to know which day we have to cary an umbralla or a raincoat when we are outside, we need to use RandomForest Model.\n",
    "'''\n",
    "\n",
    "conf_matrix1 = confusion_matrix(y_val, y_prd1)\n",
    "sns.heatmap(conf_matrix1, annot=True, fmt=\"d\")\n"
   ]
  },
  {
   "cell_type": "code",
   "execution_count": 31,
   "metadata": {},
   "outputs": [
    {
     "data": {
      "text/html": [
       "<div>\n",
       "<style scoped>\n",
       "    .dataframe tbody tr th:only-of-type {\n",
       "        vertical-align: middle;\n",
       "    }\n",
       "\n",
       "    .dataframe tbody tr th {\n",
       "        vertical-align: top;\n",
       "    }\n",
       "\n",
       "    .dataframe thead th {\n",
       "        text-align: right;\n",
       "    }\n",
       "</style>\n",
       "<table border=\"1\" class=\"dataframe\">\n",
       "  <thead>\n",
       "    <tr style=\"text-align: right;\">\n",
       "      <th></th>\n",
       "      <th>Models</th>\n",
       "      <th>Accuracy score</th>\n",
       "      <th>Area under ROC curves</th>\n",
       "    </tr>\n",
       "  </thead>\n",
       "  <tbody>\n",
       "    <tr>\n",
       "      <th>0</th>\n",
       "      <td>RandomForest</td>\n",
       "      <td>0.841963</td>\n",
       "      <td>None</td>\n",
       "    </tr>\n",
       "    <tr>\n",
       "      <th>1</th>\n",
       "      <td>KNN</td>\n",
       "      <td>0.841963</td>\n",
       "      <td>None</td>\n",
       "    </tr>\n",
       "  </tbody>\n",
       "</table>\n",
       "</div>"
      ],
      "text/plain": [
       "         Models  Accuracy score Area under ROC curves\n",
       "0  RandomForest        0.841963                  None\n",
       "1           KNN        0.841963                  None"
      ]
     },
     "execution_count": 31,
     "metadata": {},
     "output_type": "execute_result"
    }
   ],
   "source": [
    "# Store accuracy score into a dataframe\n",
    "\n",
    "result_df2=pd.DataFrame(data=[[\"KNN\", accuracy_list, None]],\n",
    "                       columns=[\"Models\", \"Accuracy score\", \"Area under ROC curves\"])\n",
    "result_df=result_df.append(result_df2,ignore_index=True)\n",
    "result_df"
   ]
  },
  {
   "cell_type": "markdown",
   "metadata": {},
   "source": [
    "### 4. Using Deep Neural Network to predict the weather for tomorrow"
   ]
  },
  {
   "cell_type": "markdown",
   "metadata": {},
   "source": [
    "We used Random Forest and KNN, both of them can predict weather tomorrow for 83% to 84% correctness. \n",
    "However, we want the prediction of weather tomorrow be more accurate. \n",
    "Thus, we shall use Deep Neural Network to predict weather tomorrow."
   ]
  },
  {
   "cell_type": "markdown",
   "metadata": {},
   "source": [
    "#### 4.1 Re-process the train and test dataset"
   ]
  },
  {
   "cell_type": "markdown",
   "metadata": {},
   "source": [
    "As we stated before, RainTomorrow is our target to predict, so Y is RainTomorrow column. The rest of columns are our X."
   ]
  },
  {
   "cell_type": "code",
   "execution_count": 32,
   "metadata": {},
   "outputs": [],
   "source": [
    "# Separate out X and Y\n",
    "\n",
    "X = df3.iloc[:, :38]\n",
    "Y = df3.iloc[:, 38:39]"
   ]
  },
  {
   "cell_type": "code",
   "execution_count": 33,
   "metadata": {},
   "outputs": [],
   "source": [
    "# Covert X, Y into formats that Tesorflow can take it\n",
    "\n",
    "X=np.asarray(X).astype(np.float32) \n",
    "Y=np.asarray(Y).astype(np.float32)"
   ]
  },
  {
   "cell_type": "code",
   "execution_count": 34,
   "metadata": {},
   "outputs": [
    {
     "name": "stdout",
     "output_type": "stream",
     "text": [
      "(97458, 38) (48002, 38) (97458, 1) (48002, 1)\n"
     ]
    }
   ],
   "source": [
    "# Use Train-Test Split to split the data set into train and test data set\n",
    "\n",
    "(X_train, X_test, Y_train, Y_test) = train_test_split(X, Y, test_size=0.33, random_state=1)\n",
    "print(X_train.shape,X_test.shape,Y_train.shape,Y_test.shape)"
   ]
  },
  {
   "cell_type": "markdown",
   "metadata": {},
   "source": [
    "#### 4.2 DNN model without dropout"
   ]
  },
  {
   "cell_type": "code",
   "execution_count": 35,
   "metadata": {},
   "outputs": [],
   "source": [
    "# Build the deep neural network\n",
    "Model = Sequential()\n",
    "Model.add(Dense(40, input_dim=38, kernel_initializer='uniform', activation='relu'))\n",
    "Model.add(Dense(30, kernel_initializer='uniform', activation='relu'))\n",
    "Model.add(Dense(30, kernel_initializer='uniform', activation='relu'))\n",
    "Model.add(Dense(20, kernel_initializer='uniform', activation='relu'))\n",
    "Model.add(Dense(20, kernel_initializer='uniform', activation='relu'))\n",
    "Model.add(Dense(10, kernel_initializer='uniform', activation='relu'))\n",
    "Model.add(Dense(6, kernel_initializer='uniform', activation='relu'))\n",
    "Model.add(Dense(1, kernel_initializer='uniform', activation='sigmoid'))"
   ]
  },
  {
   "cell_type": "code",
   "execution_count": 36,
   "metadata": {},
   "outputs": [
    {
     "name": "stdout",
     "output_type": "stream",
     "text": [
      "Epoch 1/90\n",
      "98/98 [==============================] - 1s 6ms/step - loss: 0.3570 - accuracy: 0.9752 - val_loss: 0.1257 - val_accuracy: 0.9751\n",
      "Epoch 2/90\n",
      "98/98 [==============================] - 0s 3ms/step - loss: 0.1149 - accuracy: 0.9752 - val_loss: 0.1083 - val_accuracy: 0.9751\n",
      "Epoch 3/90\n",
      "98/98 [==============================] - 0s 3ms/step - loss: 0.1069 - accuracy: 0.9752 - val_loss: 0.1054 - val_accuracy: 0.9751\n",
      "Epoch 4/90\n",
      "98/98 [==============================] - 0s 3ms/step - loss: 0.1044 - accuracy: 0.9752 - val_loss: 0.1028 - val_accuracy: 0.9751\n",
      "Epoch 5/90\n",
      "98/98 [==============================] - 0s 4ms/step - loss: 0.1017 - accuracy: 0.9752 - val_loss: 0.0997 - val_accuracy: 0.9751\n",
      "Epoch 6/90\n",
      "98/98 [==============================] - 0s 5ms/step - loss: 0.0960 - accuracy: 0.9752 - val_loss: 0.0905 - val_accuracy: 0.9751\n",
      "Epoch 7/90\n",
      "98/98 [==============================] - 0s 4ms/step - loss: 0.0807 - accuracy: 0.9752 - val_loss: 0.0695 - val_accuracy: 0.9751\n",
      "Epoch 8/90\n",
      "98/98 [==============================] - 0s 4ms/step - loss: 0.0649 - accuracy: 0.9752 - val_loss: 0.0578 - val_accuracy: 0.9751\n",
      "Epoch 9/90\n",
      "98/98 [==============================] - 0s 3ms/step - loss: 0.0543 - accuracy: 0.9752 - val_loss: 0.0511 - val_accuracy: 0.9751\n",
      "Epoch 10/90\n",
      "98/98 [==============================] - 0s 3ms/step - loss: 0.0458 - accuracy: 0.9752 - val_loss: 0.0388 - val_accuracy: 0.9751\n",
      "Epoch 11/90\n",
      "98/98 [==============================] - 0s 4ms/step - loss: 0.0374 - accuracy: 0.9752 - val_loss: 0.0323 - val_accuracy: 0.9751\n",
      "Epoch 12/90\n",
      "98/98 [==============================] - 0s 4ms/step - loss: 0.0337 - accuracy: 0.9752 - val_loss: 0.0401 - val_accuracy: 0.9751\n",
      "Epoch 13/90\n",
      "98/98 [==============================] - 0s 3ms/step - loss: 0.0327 - accuracy: 0.9875 - val_loss: 0.0276 - val_accuracy: 0.9948\n",
      "Epoch 14/90\n",
      "98/98 [==============================] - 0s 3ms/step - loss: 0.0303 - accuracy: 0.9931 - val_loss: 0.0301 - val_accuracy: 0.9934\n",
      "Epoch 15/90\n",
      "98/98 [==============================] - 0s 3ms/step - loss: 0.0274 - accuracy: 0.9946 - val_loss: 0.0258 - val_accuracy: 0.9957\n",
      "Epoch 16/90\n",
      "98/98 [==============================] - 0s 4ms/step - loss: 0.0260 - accuracy: 0.9950 - val_loss: 0.0278 - val_accuracy: 0.9936\n",
      "Epoch 17/90\n",
      "98/98 [==============================] - 0s 4ms/step - loss: 0.0264 - accuracy: 0.9945 - val_loss: 0.0228 - val_accuracy: 0.9963\n",
      "Epoch 18/90\n",
      "98/98 [==============================] - 0s 3ms/step - loss: 0.0229 - accuracy: 0.9960 - val_loss: 0.0208 - val_accuracy: 0.9960\n",
      "Epoch 19/90\n",
      "98/98 [==============================] - 0s 4ms/step - loss: 0.0195 - accuracy: 0.9962 - val_loss: 0.0295 - val_accuracy: 0.9904\n",
      "Epoch 20/90\n",
      "98/98 [==============================] - 0s 4ms/step - loss: 0.0153 - accuracy: 0.9969 - val_loss: 0.0181 - val_accuracy: 0.9949\n",
      "Epoch 21/90\n",
      "98/98 [==============================] - 0s 4ms/step - loss: 0.0161 - accuracy: 0.9959 - val_loss: 0.0123 - val_accuracy: 0.9973\n",
      "Epoch 22/90\n",
      "98/98 [==============================] - 0s 4ms/step - loss: 0.0130 - accuracy: 0.9966 - val_loss: 0.0098 - val_accuracy: 0.9973\n",
      "Epoch 23/90\n",
      "98/98 [==============================] - 0s 4ms/step - loss: 0.0093 - accuracy: 0.9978 - val_loss: 0.0091 - val_accuracy: 0.9974\n",
      "Epoch 24/90\n",
      "98/98 [==============================] - 0s 4ms/step - loss: 0.0092 - accuracy: 0.9976 - val_loss: 0.0132 - val_accuracy: 0.9955\n",
      "Epoch 25/90\n",
      "98/98 [==============================] - 0s 4ms/step - loss: 0.0105 - accuracy: 0.9970 - val_loss: 0.0076 - val_accuracy: 0.9982\n",
      "Epoch 26/90\n",
      "98/98 [==============================] - 0s 5ms/step - loss: 0.0086 - accuracy: 0.9976 - val_loss: 0.0056 - val_accuracy: 0.9984\n",
      "Epoch 27/90\n",
      "98/98 [==============================] - 0s 5ms/step - loss: 0.0079 - accuracy: 0.9976 - val_loss: 0.0054 - val_accuracy: 0.9988\n",
      "Epoch 28/90\n",
      "98/98 [==============================] - 0s 4ms/step - loss: 0.0071 - accuracy: 0.9978 - val_loss: 0.0045 - val_accuracy: 0.9987\n",
      "Epoch 29/90\n",
      "98/98 [==============================] - 0s 4ms/step - loss: 0.0072 - accuracy: 0.9978 - val_loss: 0.0036 - val_accuracy: 0.9992\n",
      "Epoch 30/90\n",
      "98/98 [==============================] - 0s 4ms/step - loss: 0.0056 - accuracy: 0.9984 - val_loss: 0.0039 - val_accuracy: 0.9991\n",
      "Epoch 31/90\n",
      "98/98 [==============================] - 0s 4ms/step - loss: 0.0076 - accuracy: 0.9976 - val_loss: 0.0105 - val_accuracy: 0.9975\n",
      "Epoch 32/90\n",
      "98/98 [==============================] - 0s 3ms/step - loss: 0.0052 - accuracy: 0.9983 - val_loss: 0.0117 - val_accuracy: 0.9954\n",
      "Epoch 33/90\n",
      "98/98 [==============================] - 0s 4ms/step - loss: 0.0058 - accuracy: 0.9981 - val_loss: 0.0028 - val_accuracy: 0.9993\n",
      "Epoch 34/90\n",
      "98/98 [==============================] - 0s 4ms/step - loss: 0.0050 - accuracy: 0.9986 - val_loss: 0.0032 - val_accuracy: 0.9991\n",
      "Epoch 35/90\n",
      "98/98 [==============================] - 0s 4ms/step - loss: 0.0063 - accuracy: 0.9982 - val_loss: 0.0066 - val_accuracy: 0.9971\n",
      "Epoch 36/90\n",
      "98/98 [==============================] - 0s 4ms/step - loss: 0.0074 - accuracy: 0.9976 - val_loss: 0.0059 - val_accuracy: 0.9991\n",
      "Epoch 37/90\n",
      "98/98 [==============================] - 0s 4ms/step - loss: 0.0041 - accuracy: 0.9989 - val_loss: 0.0068 - val_accuracy: 0.9978\n",
      "Epoch 38/90\n",
      "98/98 [==============================] - 0s 5ms/step - loss: 0.0059 - accuracy: 0.9982 - val_loss: 0.0030 - val_accuracy: 0.9989\n",
      "Epoch 39/90\n",
      "98/98 [==============================] - 0s 4ms/step - loss: 0.0039 - accuracy: 0.9989 - val_loss: 0.0027 - val_accuracy: 0.9994\n",
      "Epoch 40/90\n",
      "98/98 [==============================] - 0s 4ms/step - loss: 0.0032 - accuracy: 0.9991 - val_loss: 0.0047 - val_accuracy: 0.9987\n",
      "Epoch 41/90\n",
      "98/98 [==============================] - 0s 3ms/step - loss: 0.0035 - accuracy: 0.9990 - val_loss: 0.0024 - val_accuracy: 0.9992\n",
      "Epoch 42/90\n",
      "98/98 [==============================] - 0s 4ms/step - loss: 0.0028 - accuracy: 0.9991 - val_loss: 0.0020 - val_accuracy: 0.9995\n",
      "Epoch 43/90\n",
      "98/98 [==============================] - 0s 4ms/step - loss: 0.0028 - accuracy: 0.9993 - val_loss: 0.0016 - val_accuracy: 0.9996\n",
      "Epoch 44/90\n",
      "98/98 [==============================] - 0s 4ms/step - loss: 0.0029 - accuracy: 0.9991 - val_loss: 0.0018 - val_accuracy: 0.9995\n",
      "Epoch 45/90\n",
      "98/98 [==============================] - 0s 4ms/step - loss: 0.0034 - accuracy: 0.9990 - val_loss: 0.0015 - val_accuracy: 0.9996\n",
      "Epoch 46/90\n",
      "98/98 [==============================] - 0s 4ms/step - loss: 0.0029 - accuracy: 0.9991 - val_loss: 0.0065 - val_accuracy: 0.9974\n",
      "Epoch 47/90\n",
      "98/98 [==============================] - 0s 4ms/step - loss: 0.0055 - accuracy: 0.9982 - val_loss: 0.0020 - val_accuracy: 0.9995\n",
      "Epoch 48/90\n",
      "98/98 [==============================] - 0s 3ms/step - loss: 0.0027 - accuracy: 0.9992 - val_loss: 0.0030 - val_accuracy: 0.9989\n",
      "Epoch 49/90\n",
      "98/98 [==============================] - 0s 4ms/step - loss: 0.0022 - accuracy: 0.9994 - val_loss: 0.0012 - val_accuracy: 0.9997\n",
      "Epoch 50/90\n",
      "98/98 [==============================] - 0s 3ms/step - loss: 0.0040 - accuracy: 0.9987 - val_loss: 0.0015 - val_accuracy: 0.9995\n",
      "Epoch 51/90\n",
      "98/98 [==============================] - 0s 3ms/step - loss: 0.0022 - accuracy: 0.9993 - val_loss: 0.0018 - val_accuracy: 0.9995\n",
      "Epoch 52/90\n",
      "98/98 [==============================] - 0s 4ms/step - loss: 0.0018 - accuracy: 0.9995 - val_loss: 0.0064 - val_accuracy: 0.9974\n",
      "Epoch 53/90\n",
      "98/98 [==============================] - 0s 4ms/step - loss: 0.0041 - accuracy: 0.9986 - val_loss: 0.0022 - val_accuracy: 0.9992\n",
      "Epoch 54/90\n",
      "98/98 [==============================] - 0s 4ms/step - loss: 0.0024 - accuracy: 0.9992 - val_loss: 0.0102 - val_accuracy: 0.9984\n",
      "Epoch 55/90\n",
      "98/98 [==============================] - 0s 4ms/step - loss: 0.0025 - accuracy: 0.9993 - val_loss: 0.0033 - val_accuracy: 0.9991\n",
      "Epoch 56/90\n",
      "98/98 [==============================] - 0s 4ms/step - loss: 0.0027 - accuracy: 0.9992 - val_loss: 0.0012 - val_accuracy: 0.9997\n",
      "Epoch 57/90\n",
      "98/98 [==============================] - 0s 4ms/step - loss: 0.0520 - accuracy: 0.9938 - val_loss: 0.1140 - val_accuracy: 0.9751\n",
      "Epoch 58/90\n",
      "98/98 [==============================] - 0s 4ms/step - loss: 0.1017 - accuracy: 0.9752 - val_loss: 0.0794 - val_accuracy: 0.9751\n",
      "Epoch 59/90\n"
     ]
    },
    {
     "name": "stdout",
     "output_type": "stream",
     "text": [
      "98/98 [==============================] - 0s 4ms/step - loss: 0.0519 - accuracy: 0.9817 - val_loss: 0.0512 - val_accuracy: 0.9773\n",
      "Epoch 60/90\n",
      "98/98 [==============================] - 0s 4ms/step - loss: 0.0115 - accuracy: 0.9961 - val_loss: 0.0111 - val_accuracy: 0.9951\n",
      "Epoch 61/90\n",
      "98/98 [==============================] - 0s 4ms/step - loss: 0.0051 - accuracy: 0.9985 - val_loss: 0.0022 - val_accuracy: 0.9994\n",
      "Epoch 62/90\n",
      "98/98 [==============================] - 0s 4ms/step - loss: 0.0031 - accuracy: 0.9991 - val_loss: 0.0021 - val_accuracy: 0.9993\n",
      "Epoch 63/90\n",
      "98/98 [==============================] - 0s 4ms/step - loss: 0.0032 - accuracy: 0.9991 - val_loss: 0.0016 - val_accuracy: 0.9994\n",
      "Epoch 64/90\n",
      "98/98 [==============================] - 0s 3ms/step - loss: 0.0023 - accuracy: 0.9994 - val_loss: 0.0022 - val_accuracy: 0.9993\n",
      "Epoch 65/90\n",
      "98/98 [==============================] - 0s 4ms/step - loss: 0.0023 - accuracy: 0.9994 - val_loss: 0.0019 - val_accuracy: 0.9991\n",
      "Epoch 66/90\n",
      "98/98 [==============================] - 0s 3ms/step - loss: 0.0029 - accuracy: 0.9991 - val_loss: 0.0014 - val_accuracy: 0.9997\n",
      "Epoch 67/90\n",
      "98/98 [==============================] - 0s 3ms/step - loss: 0.0020 - accuracy: 0.9995 - val_loss: 0.0011 - val_accuracy: 0.9996\n",
      "Epoch 68/90\n",
      "98/98 [==============================] - 0s 3ms/step - loss: 0.0053 - accuracy: 0.9984 - val_loss: 0.0043 - val_accuracy: 0.9981\n",
      "Epoch 69/90\n",
      "98/98 [==============================] - 0s 4ms/step - loss: 0.0034 - accuracy: 0.9990 - val_loss: 0.0014 - val_accuracy: 0.9996\n",
      "Epoch 70/90\n",
      "98/98 [==============================] - 0s 4ms/step - loss: 0.0021 - accuracy: 0.9994 - val_loss: 0.0037 - val_accuracy: 0.9986\n",
      "Epoch 71/90\n",
      "98/98 [==============================] - 0s 3ms/step - loss: 0.0020 - accuracy: 0.9994 - val_loss: 0.0010 - val_accuracy: 0.9997\n",
      "Epoch 72/90\n",
      "98/98 [==============================] - 0s 3ms/step - loss: 0.0024 - accuracy: 0.9993 - val_loss: 0.0011 - val_accuracy: 0.9997\n",
      "Epoch 73/90\n",
      "98/98 [==============================] - 0s 3ms/step - loss: 0.0016 - accuracy: 0.9995 - val_loss: 9.5719e-04 - val_accuracy: 0.9997\n",
      "Epoch 74/90\n",
      "98/98 [==============================] - 0s 3ms/step - loss: 0.0024 - accuracy: 0.9992 - val_loss: 0.0018 - val_accuracy: 0.9996\n",
      "Epoch 75/90\n",
      "98/98 [==============================] - 0s 3ms/step - loss: 0.0018 - accuracy: 0.9995 - val_loss: 0.0013 - val_accuracy: 0.9995\n",
      "Epoch 76/90\n",
      "98/98 [==============================] - 0s 3ms/step - loss: 0.0019 - accuracy: 0.9995 - val_loss: 9.5720e-04 - val_accuracy: 0.9997\n",
      "Epoch 77/90\n",
      "98/98 [==============================] - 0s 3ms/step - loss: 0.0018 - accuracy: 0.9995 - val_loss: 0.0013 - val_accuracy: 0.9996\n",
      "Epoch 78/90\n",
      "98/98 [==============================] - 0s 3ms/step - loss: 0.0036 - accuracy: 0.9989 - val_loss: 7.9270e-04 - val_accuracy: 0.9998\n",
      "Epoch 79/90\n",
      "98/98 [==============================] - 0s 3ms/step - loss: 0.0013 - accuracy: 0.9997 - val_loss: 7.4379e-04 - val_accuracy: 0.9997\n",
      "Epoch 80/90\n",
      "98/98 [==============================] - 0s 3ms/step - loss: 0.0014 - accuracy: 0.9995 - val_loss: 0.0016 - val_accuracy: 0.9995\n",
      "Epoch 81/90\n",
      "98/98 [==============================] - 0s 3ms/step - loss: 0.0044 - accuracy: 0.9986 - val_loss: 0.0039 - val_accuracy: 0.9991\n",
      "Epoch 82/90\n",
      "98/98 [==============================] - 0s 3ms/step - loss: 0.0027 - accuracy: 0.9991 - val_loss: 7.9306e-04 - val_accuracy: 0.9997\n",
      "Epoch 83/90\n",
      "98/98 [==============================] - 0s 3ms/step - loss: 0.0023 - accuracy: 0.9993 - val_loss: 0.0031 - val_accuracy: 0.9989\n",
      "Epoch 84/90\n",
      "98/98 [==============================] - 0s 3ms/step - loss: 0.0017 - accuracy: 0.9995 - val_loss: 0.0029 - val_accuracy: 0.9989\n",
      "Epoch 85/90\n",
      "98/98 [==============================] - 0s 3ms/step - loss: 0.0016 - accuracy: 0.9995 - val_loss: 6.3060e-04 - val_accuracy: 0.9998\n",
      "Epoch 86/90\n",
      "98/98 [==============================] - 0s 4ms/step - loss: 0.0013 - accuracy: 0.9997 - val_loss: 7.9976e-04 - val_accuracy: 0.9998\n",
      "Epoch 87/90\n",
      "98/98 [==============================] - 0s 3ms/step - loss: 0.1555 - accuracy: 0.9793 - val_loss: 0.1135 - val_accuracy: 0.9751\n",
      "Epoch 88/90\n",
      "98/98 [==============================] - 0s 3ms/step - loss: 0.1050 - accuracy: 0.9752 - val_loss: 0.0990 - val_accuracy: 0.9751\n",
      "Epoch 89/90\n",
      "98/98 [==============================] - 0s 3ms/step - loss: 0.0947 - accuracy: 0.9752 - val_loss: 0.0911 - val_accuracy: 0.9751\n",
      "Epoch 90/90\n",
      "98/98 [==============================] - 0s 3ms/step - loss: 0.0885 - accuracy: 0.9752 - val_loss: 0.0855 - val_accuracy: 0.9751\n"
     ]
    },
    {
     "data": {
      "text/plain": [
       "<tensorflow.python.keras.callbacks.History at 0x22f6f794670>"
      ]
     },
     "execution_count": 36,
     "metadata": {},
     "output_type": "execute_result"
    }
   ],
   "source": [
    "# Compile the DNN\n",
    "\n",
    "Model.compile(loss='binary_crossentropy', optimizer='adam', metrics=['accuracy'])\n",
    "\n",
    "# Fit the DNN with train data with epochs be 90 and batch_size be 1000\n",
    "\n",
    "Model.fit(X_train, Y_train, validation_data=(X_test, Y_test), epochs=90, batch_size=1000)"
   ]
  },
  {
   "cell_type": "code",
   "execution_count": 37,
   "metadata": {},
   "outputs": [
    {
     "name": "stdout",
     "output_type": "stream",
     "text": [
      "1501/1501 [==============================] - 1s 677us/step - loss: 0.0855 - accuracy: 0.9751\n",
      "Accuracy: 97.51%\n"
     ]
    }
   ],
   "source": [
    "# Evaluate the model and we have accuracy be 99.95%%\n",
    "scores = Model.evaluate(X_test, Y_test)\n",
    "print (\"Accuracy: %.2f%%\" %(scores[1]*100))"
   ]
  },
  {
   "cell_type": "markdown",
   "metadata": {},
   "source": [
    "#### Analysis DNN without dropout layer by using ROC curve"
   ]
  },
  {
   "cell_type": "code",
   "execution_count": 38,
   "metadata": {},
   "outputs": [],
   "source": [
    "# Make a prediction of X_test\n",
    "Y_pred= Model.predict(X_test)\n",
    "\n",
    "\n",
    "#Report results using nice ROC curves, report AUC values.\n",
    "rec_tr1, fall_out_tr1, thresholds_tr1 = roc_curve(Y_test,Y_pred)"
   ]
  },
  {
   "cell_type": "code",
   "execution_count": 39,
   "metadata": {},
   "outputs": [
    {
     "data": {
      "image/png": "[encoded data removed]",
      "text/plain": [
       "<Figure size 432x288 with 1 Axes>"
      ]
     },
     "metadata": {
      "needs_background": "light"
     },
     "output_type": "display_data"
    }
   ],
   "source": [
    "#Report results using nice ROC curves, report AUC values.\n",
    "\n",
    "\n",
    "plt.plot([0,1],[0,1],'k--')\n",
    "plt.plot(rec_tr1,fall_out_tr1, label='DNN')\n",
    "plt.xlabel('Fall out')\n",
    "plt.ylabel('Recall/Sensitivity')\n",
    "plt.title('Dnn without dropout ROC curve ')\n",
    "plt.show()"
   ]
  },
  {
   "cell_type": "code",
   "execution_count": 40,
   "metadata": {},
   "outputs": [
    {
     "name": "stdout",
     "output_type": "stream",
     "text": [
      "0.9098128188655922\n"
     ]
    }
   ],
   "source": [
    "#Report results using nice ROC curves, report AUC values.\n",
    "#Area under ROC curve\n",
    "\n",
    "Model_area=roc_auc_score(Y_test,Y_pred)\n",
    "print(Model_area)"
   ]
  },
  {
   "cell_type": "code",
   "execution_count": 41,
   "metadata": {},
   "outputs": [
    {
     "data": {
      "text/html": [
       "<div>\n",
       "<style scoped>\n",
       "    .dataframe tbody tr th:only-of-type {\n",
       "        vertical-align: middle;\n",
       "    }\n",
       "\n",
       "    .dataframe tbody tr th {\n",
       "        vertical-align: top;\n",
       "    }\n",
       "\n",
       "    .dataframe thead th {\n",
       "        text-align: right;\n",
       "    }\n",
       "</style>\n",
       "<table border=\"1\" class=\"dataframe\">\n",
       "  <thead>\n",
       "    <tr style=\"text-align: right;\">\n",
       "      <th></th>\n",
       "      <th>Models</th>\n",
       "      <th>Accuracy score</th>\n",
       "      <th>Area under ROC curves</th>\n",
       "    </tr>\n",
       "  </thead>\n",
       "  <tbody>\n",
       "    <tr>\n",
       "      <th>0</th>\n",
       "      <td>RandomForest</td>\n",
       "      <td>0.841963</td>\n",
       "      <td>None</td>\n",
       "    </tr>\n",
       "    <tr>\n",
       "      <th>1</th>\n",
       "      <td>KNN</td>\n",
       "      <td>0.841963</td>\n",
       "      <td>None</td>\n",
       "    </tr>\n",
       "    <tr>\n",
       "      <th>2</th>\n",
       "      <td>Dnn without dropout</td>\n",
       "      <td>0.975126</td>\n",
       "      <td>0.909813</td>\n",
       "    </tr>\n",
       "  </tbody>\n",
       "</table>\n",
       "</div>"
      ],
      "text/plain": [
       "                Models  Accuracy score Area under ROC curves\n",
       "0         RandomForest        0.841963                  None\n",
       "1                  KNN        0.841963                  None\n",
       "2  Dnn without dropout        0.975126              0.909813"
      ]
     },
     "execution_count": 41,
     "metadata": {},
     "output_type": "execute_result"
    }
   ],
   "source": [
    "# Store the accuracy score and area under ROC curves into a dataframe\n",
    "\n",
    "\n",
    "result_df3=pd.DataFrame(data=[['Dnn without dropout', scores[1] ,Model_area]],\n",
    "                      columns=[\"Models\", \"Accuracy score\", \"Area under ROC curves\"])\n",
    "result_df=result_df.append(result_df3,ignore_index=True )\n",
    "result_df"
   ]
  },
  {
   "cell_type": "markdown",
   "metadata": {},
   "source": [
    "#### 4.3 Build and compile a deep learning model with input layer dropout"
   ]
  },
  {
   "cell_type": "code",
   "execution_count": 42,
   "metadata": {},
   "outputs": [
    {
     "name": "stdout",
     "output_type": "stream",
     "text": [
      "Epoch 1/90\n",
      "98/98 [==============================] - 0s 5ms/step - loss: 0.3602 - accuracy: 0.9752 - val_loss: 0.1204 - val_accuracy: 0.9751\n",
      "Epoch 2/90\n",
      "98/98 [==============================] - 0s 4ms/step - loss: 0.1173 - accuracy: 0.9752 - val_loss: 0.1128 - val_accuracy: 0.9751\n",
      "Epoch 3/90\n",
      "98/98 [==============================] - 0s 4ms/step - loss: 0.1112 - accuracy: 0.9752 - val_loss: 0.1078 - val_accuracy: 0.9751\n",
      "Epoch 4/90\n",
      "98/98 [==============================] - 0s 4ms/step - loss: 0.1084 - accuracy: 0.9752 - val_loss: 0.1032 - val_accuracy: 0.9751\n",
      "Epoch 5/90\n",
      "98/98 [==============================] - 0s 4ms/step - loss: 0.1034 - accuracy: 0.9752 - val_loss: 0.1000 - val_accuracy: 0.9751\n",
      "Epoch 6/90\n",
      "98/98 [==============================] - 0s 4ms/step - loss: 0.0966 - accuracy: 0.9752 - val_loss: 0.0806 - val_accuracy: 0.9751\n",
      "Epoch 7/90\n",
      "98/98 [==============================] - 0s 4ms/step - loss: 0.0833 - accuracy: 0.9752 - val_loss: 0.0680 - val_accuracy: 0.9751\n",
      "Epoch 8/90\n",
      "98/98 [==============================] - 0s 4ms/step - loss: 0.0724 - accuracy: 0.9752 - val_loss: 0.0634 - val_accuracy: 0.9751\n",
      "Epoch 9/90\n",
      "98/98 [==============================] - 0s 4ms/step - loss: 0.0626 - accuracy: 0.9752 - val_loss: 0.0448 - val_accuracy: 0.9751\n",
      "Epoch 10/90\n",
      "98/98 [==============================] - 0s 4ms/step - loss: 0.0527 - accuracy: 0.9752 - val_loss: 0.0573 - val_accuracy: 0.9751\n",
      "Epoch 11/90\n",
      "98/98 [==============================] - 0s 4ms/step - loss: 0.0498 - accuracy: 0.9752 - val_loss: 0.0371 - val_accuracy: 0.9751\n",
      "Epoch 12/90\n",
      "98/98 [==============================] - 0s 4ms/step - loss: 0.0428 - accuracy: 0.9752 - val_loss: 0.0298 - val_accuracy: 0.9751\n",
      "Epoch 13/90\n",
      "98/98 [==============================] - 0s 4ms/step - loss: 0.0387 - accuracy: 0.9752 - val_loss: 0.0261 - val_accuracy: 0.9751\n",
      "Epoch 14/90\n",
      "98/98 [==============================] - 0s 4ms/step - loss: 0.0422 - accuracy: 0.9824 - val_loss: 0.0416 - val_accuracy: 0.9925\n",
      "Epoch 15/90\n",
      "98/98 [==============================] - 0s 5ms/step - loss: 0.0392 - accuracy: 0.9899 - val_loss: 0.0299 - val_accuracy: 0.9944\n",
      "Epoch 16/90\n",
      "98/98 [==============================] - 1s 6ms/step - loss: 0.0340 - accuracy: 0.9911 - val_loss: 0.0250 - val_accuracy: 0.9955\n",
      "Epoch 17/90\n",
      "98/98 [==============================] - 0s 4ms/step - loss: 0.0347 - accuracy: 0.9912 - val_loss: 0.0278 - val_accuracy: 0.9947\n",
      "Epoch 18/90\n",
      "98/98 [==============================] - 0s 4ms/step - loss: 0.0344 - accuracy: 0.9915 - val_loss: 0.0298 - val_accuracy: 0.9944\n",
      "Epoch 19/90\n",
      "98/98 [==============================] - 0s 4ms/step - loss: 0.0336 - accuracy: 0.9918 - val_loss: 0.0280 - val_accuracy: 0.9961\n",
      "Epoch 20/90\n",
      "98/98 [==============================] - 0s 4ms/step - loss: 0.0318 - accuracy: 0.9929 - val_loss: 0.0289 - val_accuracy: 0.9962\n",
      "Epoch 21/90\n",
      "98/98 [==============================] - 0s 4ms/step - loss: 0.0323 - accuracy: 0.9923 - val_loss: 0.0197 - val_accuracy: 0.9965\n",
      "Epoch 22/90\n",
      "98/98 [==============================] - 0s 4ms/step - loss: 0.0296 - accuracy: 0.9932 - val_loss: 0.0334 - val_accuracy: 0.9923\n",
      "Epoch 23/90\n",
      "98/98 [==============================] - 0s 4ms/step - loss: 0.0294 - accuracy: 0.9934 - val_loss: 0.0196 - val_accuracy: 0.9985\n",
      "Epoch 24/90\n",
      "98/98 [==============================] - 0s 4ms/step - loss: 0.0294 - accuracy: 0.9935 - val_loss: 0.0181 - val_accuracy: 0.9975\n",
      "Epoch 25/90\n",
      "98/98 [==============================] - 0s 4ms/step - loss: 0.0287 - accuracy: 0.9937 - val_loss: 0.0197 - val_accuracy: 0.9953\n",
      "Epoch 26/90\n",
      "98/98 [==============================] - 0s 4ms/step - loss: 0.0285 - accuracy: 0.9937 - val_loss: 0.0232 - val_accuracy: 0.9967\n",
      "Epoch 27/90\n",
      "98/98 [==============================] - 0s 4ms/step - loss: 0.0313 - accuracy: 0.9928 - val_loss: 0.0237 - val_accuracy: 0.9971\n",
      "Epoch 28/90\n",
      "98/98 [==============================] - 0s 4ms/step - loss: 0.0278 - accuracy: 0.9935 - val_loss: 0.0255 - val_accuracy: 0.9960\n",
      "Epoch 29/90\n",
      "98/98 [==============================] - 0s 5ms/step - loss: 0.0293 - accuracy: 0.9935 - val_loss: 0.0181 - val_accuracy: 0.9981\n",
      "Epoch 30/90\n",
      "98/98 [==============================] - 0s 4ms/step - loss: 0.0276 - accuracy: 0.9940 - val_loss: 0.0203 - val_accuracy: 0.9978\n",
      "Epoch 31/90\n",
      "98/98 [==============================] - 0s 4ms/step - loss: 0.0267 - accuracy: 0.9939 - val_loss: 0.0283 - val_accuracy: 0.9941\n",
      "Epoch 32/90\n",
      "98/98 [==============================] - 0s 4ms/step - loss: 0.0258 - accuracy: 0.9947 - val_loss: 0.0204 - val_accuracy: 0.9980\n",
      "Epoch 33/90\n",
      "98/98 [==============================] - 0s 4ms/step - loss: 0.0264 - accuracy: 0.9942 - val_loss: 0.0161 - val_accuracy: 0.9989\n",
      "Epoch 34/90\n",
      "98/98 [==============================] - 0s 4ms/step - loss: 0.0256 - accuracy: 0.9943 - val_loss: 0.0185 - val_accuracy: 0.9978\n",
      "Epoch 35/90\n",
      "98/98 [==============================] - 0s 4ms/step - loss: 0.0254 - accuracy: 0.9944 - val_loss: 0.0145 - val_accuracy: 0.9976\n",
      "Epoch 36/90\n",
      "98/98 [==============================] - 0s 4ms/step - loss: 0.0277 - accuracy: 0.9935 - val_loss: 0.0180 - val_accuracy: 0.9983\n",
      "Epoch 37/90\n",
      "98/98 [==============================] - 0s 4ms/step - loss: 0.0259 - accuracy: 0.9942 - val_loss: 0.0137 - val_accuracy: 0.9987\n",
      "Epoch 38/90\n",
      "98/98 [==============================] - 0s 4ms/step - loss: 0.0251 - accuracy: 0.9940 - val_loss: 0.0136 - val_accuracy: 0.9979\n",
      "Epoch 39/90\n",
      "98/98 [==============================] - 0s 4ms/step - loss: 0.0258 - accuracy: 0.9942 - val_loss: 0.0132 - val_accuracy: 0.9991\n",
      "Epoch 40/90\n",
      "98/98 [==============================] - 0s 4ms/step - loss: 0.0237 - accuracy: 0.9946 - val_loss: 0.0128 - val_accuracy: 0.9992\n",
      "Epoch 41/90\n",
      "98/98 [==============================] - 0s 4ms/step - loss: 0.0246 - accuracy: 0.9944 - val_loss: 0.0132 - val_accuracy: 0.9990\n",
      "Epoch 42/90\n",
      "98/98 [==============================] - 0s 4ms/step - loss: 0.0231 - accuracy: 0.9944 - val_loss: 0.0143 - val_accuracy: 0.9981\n",
      "Epoch 43/90\n",
      "98/98 [==============================] - 0s 4ms/step - loss: 0.0230 - accuracy: 0.9945 - val_loss: 0.0163 - val_accuracy: 0.9978\n",
      "Epoch 44/90\n",
      "98/98 [==============================] - 0s 4ms/step - loss: 0.0247 - accuracy: 0.9939 - val_loss: 0.0122 - val_accuracy: 0.9974\n",
      "Epoch 45/90\n",
      "98/98 [==============================] - 0s 4ms/step - loss: 0.0239 - accuracy: 0.9944 - val_loss: 0.0117 - val_accuracy: 0.9991\n",
      "Epoch 46/90\n",
      "98/98 [==============================] - 0s 4ms/step - loss: 0.0209 - accuracy: 0.9953 - val_loss: 0.0183 - val_accuracy: 0.9971\n",
      "Epoch 47/90\n",
      "98/98 [==============================] - 0s 4ms/step - loss: 0.0217 - accuracy: 0.9948 - val_loss: 0.0105 - val_accuracy: 0.9992\n",
      "Epoch 48/90\n",
      "98/98 [==============================] - 0s 4ms/step - loss: 0.0221 - accuracy: 0.9948 - val_loss: 0.0105 - val_accuracy: 0.9988\n",
      "Epoch 49/90\n",
      "98/98 [==============================] - 0s 4ms/step - loss: 0.0223 - accuracy: 0.9945 - val_loss: 0.0126 - val_accuracy: 0.9990\n",
      "Epoch 50/90\n",
      "98/98 [==============================] - 0s 4ms/step - loss: 0.0223 - accuracy: 0.9945 - val_loss: 0.0209 - val_accuracy: 0.9967\n",
      "Epoch 51/90\n",
      "98/98 [==============================] - 0s 4ms/step - loss: 0.0245 - accuracy: 0.9941 - val_loss: 0.0104 - val_accuracy: 0.9992\n",
      "Epoch 52/90\n",
      "98/98 [==============================] - 0s 4ms/step - loss: 0.0213 - accuracy: 0.9948 - val_loss: 0.0416 - val_accuracy: 0.9908\n",
      "Epoch 53/90\n",
      "98/98 [==============================] - 0s 4ms/step - loss: 0.0216 - accuracy: 0.9947 - val_loss: 0.0253 - val_accuracy: 0.9959\n",
      "Epoch 54/90\n",
      "98/98 [==============================] - 0s 4ms/step - loss: 0.0203 - accuracy: 0.9954 - val_loss: 0.0105 - val_accuracy: 0.9990\n",
      "Epoch 55/90\n",
      "98/98 [==============================] - 0s 4ms/step - loss: 0.0215 - accuracy: 0.9947 - val_loss: 0.0116 - val_accuracy: 0.9984\n",
      "Epoch 56/90\n",
      "98/98 [==============================] - 0s 4ms/step - loss: 0.0199 - accuracy: 0.9950 - val_loss: 0.0119 - val_accuracy: 0.9988\n",
      "Epoch 57/90\n",
      "98/98 [==============================] - 0s 4ms/step - loss: 0.0217 - accuracy: 0.9944 - val_loss: 0.0123 - val_accuracy: 0.9984\n",
      "Epoch 58/90\n",
      "98/98 [==============================] - 0s 4ms/step - loss: 0.0204 - accuracy: 0.9949 - val_loss: 0.0544 - val_accuracy: 0.9889\n",
      "Epoch 59/90\n"
     ]
    },
    {
     "name": "stdout",
     "output_type": "stream",
     "text": [
      "98/98 [==============================] - 0s 4ms/step - loss: 0.0203 - accuracy: 0.9949 - val_loss: 0.0117 - val_accuracy: 0.9985\n",
      "Epoch 60/90\n",
      "98/98 [==============================] - 0s 4ms/step - loss: 0.0189 - accuracy: 0.9951 - val_loss: 0.0121 - val_accuracy: 0.9985\n",
      "Epoch 61/90\n",
      "98/98 [==============================] - 0s 4ms/step - loss: 0.0189 - accuracy: 0.9953 - val_loss: 0.0076 - val_accuracy: 0.9990\n",
      "Epoch 62/90\n",
      "98/98 [==============================] - 0s 4ms/step - loss: 0.0176 - accuracy: 0.9955 - val_loss: 0.0190 - val_accuracy: 0.9964\n",
      "Epoch 63/90\n",
      "98/98 [==============================] - 0s 4ms/step - loss: 0.0187 - accuracy: 0.9951 - val_loss: 0.0074 - val_accuracy: 0.9991\n",
      "Epoch 64/90\n",
      "98/98 [==============================] - 0s 4ms/step - loss: 0.0195 - accuracy: 0.9950 - val_loss: 0.0073 - val_accuracy: 0.9991\n",
      "Epoch 65/90\n",
      "98/98 [==============================] - 0s 4ms/step - loss: 0.0187 - accuracy: 0.9952 - val_loss: 0.0090 - val_accuracy: 0.9970\n",
      "Epoch 66/90\n",
      "98/98 [==============================] - 0s 4ms/step - loss: 0.0212 - accuracy: 0.9941 - val_loss: 0.0089 - val_accuracy: 0.9988\n",
      "Epoch 67/90\n",
      "98/98 [==============================] - 0s 4ms/step - loss: 0.0182 - accuracy: 0.9953 - val_loss: 0.0081 - val_accuracy: 0.9992\n",
      "Epoch 68/90\n",
      "98/98 [==============================] - 0s 4ms/step - loss: 0.0182 - accuracy: 0.9952 - val_loss: 0.0123 - val_accuracy: 0.9981\n",
      "Epoch 69/90\n",
      "98/98 [==============================] - 0s 4ms/step - loss: 0.0201 - accuracy: 0.9947 - val_loss: 0.0176 - val_accuracy: 0.9973\n",
      "Epoch 70/90\n",
      "98/98 [==============================] - 0s 4ms/step - loss: 0.0182 - accuracy: 0.9953 - val_loss: 0.0083 - val_accuracy: 0.9991\n",
      "Epoch 71/90\n",
      "98/98 [==============================] - 0s 4ms/step - loss: 0.0199 - accuracy: 0.9948 - val_loss: 0.0079 - val_accuracy: 0.9990\n",
      "Epoch 72/90\n",
      "98/98 [==============================] - 0s 4ms/step - loss: 0.0186 - accuracy: 0.9948 - val_loss: 0.0174 - val_accuracy: 0.9971\n",
      "Epoch 73/90\n",
      "98/98 [==============================] - 0s 5ms/step - loss: 0.0172 - accuracy: 0.9953 - val_loss: 0.0210 - val_accuracy: 0.9953\n",
      "Epoch 74/90\n",
      "98/98 [==============================] - 0s 4ms/step - loss: 0.0191 - accuracy: 0.9950 - val_loss: 0.0115 - val_accuracy: 0.9986\n",
      "Epoch 75/90\n",
      "98/98 [==============================] - 0s 3ms/step - loss: 0.0200 - accuracy: 0.9944 - val_loss: 0.0258 - val_accuracy: 0.9951\n",
      "Epoch 76/90\n",
      "98/98 [==============================] - 0s 5ms/step - loss: 0.0194 - accuracy: 0.9946 - val_loss: 0.0063 - val_accuracy: 0.9992\n",
      "Epoch 77/90\n",
      "98/98 [==============================] - 0s 4ms/step - loss: 0.0181 - accuracy: 0.9953 - val_loss: 0.0070 - val_accuracy: 0.9991\n",
      "Epoch 78/90\n",
      "98/98 [==============================] - 0s 4ms/step - loss: 0.0185 - accuracy: 0.9948 - val_loss: 0.0116 - val_accuracy: 0.9982\n",
      "Epoch 79/90\n",
      "98/98 [==============================] - 0s 3ms/step - loss: 0.0195 - accuracy: 0.9948 - val_loss: 0.0070 - val_accuracy: 0.9992\n",
      "Epoch 80/90\n",
      "98/98 [==============================] - 0s 4ms/step - loss: 0.0169 - accuracy: 0.9953 - val_loss: 0.0132 - val_accuracy: 0.9972\n",
      "Epoch 81/90\n",
      "98/98 [==============================] - 1s 5ms/step - loss: 0.0165 - accuracy: 0.9956 - val_loss: 0.0103 - val_accuracy: 0.9978\n",
      "Epoch 82/90\n",
      "98/98 [==============================] - 1s 5ms/step - loss: 0.0165 - accuracy: 0.9954 - val_loss: 0.0065 - val_accuracy: 0.9992\n",
      "Epoch 83/90\n",
      "98/98 [==============================] - 1s 5ms/step - loss: 0.0187 - accuracy: 0.9947 - val_loss: 0.0071 - val_accuracy: 0.9986\n",
      "Epoch 84/90\n",
      "98/98 [==============================] - 0s 5ms/step - loss: 0.0166 - accuracy: 0.9955 - val_loss: 0.0067 - val_accuracy: 0.9992\n",
      "Epoch 85/90\n",
      "98/98 [==============================] - 0s 5ms/step - loss: 0.0160 - accuracy: 0.9957 - val_loss: 0.0070 - val_accuracy: 0.9991\n",
      "Epoch 86/90\n",
      "98/98 [==============================] - 0s 5ms/step - loss: 0.0176 - accuracy: 0.9953 - val_loss: 0.0104 - val_accuracy: 0.9986\n",
      "Epoch 87/90\n",
      "98/98 [==============================] - 0s 5ms/step - loss: 0.0178 - accuracy: 0.9948 - val_loss: 0.0186 - val_accuracy: 0.9968\n",
      "Epoch 88/90\n",
      "98/98 [==============================] - 0s 5ms/step - loss: 0.0164 - accuracy: 0.9955 - val_loss: 0.0087 - val_accuracy: 0.9984\n",
      "Epoch 89/90\n",
      "98/98 [==============================] - 0s 4ms/step - loss: 0.0164 - accuracy: 0.9953 - val_loss: 0.0054 - val_accuracy: 0.9991\n",
      "Epoch 90/90\n",
      "98/98 [==============================] - 0s 4ms/step - loss: 0.0172 - accuracy: 0.9953 - val_loss: 0.0125 - val_accuracy: 0.9970\n"
     ]
    },
    {
     "data": {
      "text/plain": [
       "<tensorflow.python.keras.callbacks.History at 0x22f62d96a30>"
      ]
     },
     "execution_count": 42,
     "metadata": {},
     "output_type": "execute_result"
    }
   ],
   "source": [
    "# Build the deep neural network with dropout of 0.2. i.e. dropping out at random 20% of \n",
    "#input features\n",
    "\n",
    "Model2 = Sequential()\n",
    "Model2.add(Dropout(0.2, input_shape=(38,)))\n",
    "Model2.add(Dense(40, input_dim=38, kernel_initializer='uniform', activation='relu'))\n",
    "Model2.add(Dense(30, kernel_initializer='uniform', activation='relu'))\n",
    "Model2.add(Dense(30, kernel_initializer='uniform', activation='relu'))\n",
    "Model2.add(Dense(20, kernel_initializer='uniform', activation='relu'))\n",
    "Model2.add(Dense(20, kernel_initializer='uniform', activation='relu'))\n",
    "Model2.add(Dense(10, kernel_initializer='uniform', activation='relu'))\n",
    "Model2.add(Dense(6, kernel_initializer='uniform', activation='relu'))\n",
    "Model2.add(Dense(1, kernel_initializer='uniform', activation='sigmoid'))\n",
    "\n",
    "# Compile the DNN\n",
    "\n",
    "Model2.compile(loss='binary_crossentropy', optimizer='adam', metrics=['accuracy'])\n",
    "\n",
    "# Fit the DNN with train data\n",
    "\n",
    "Model2.fit(X_train, Y_train, validation_data=(X_test, Y_test), epochs=90, batch_size=1000)"
   ]
  },
  {
   "cell_type": "code",
   "execution_count": 43,
   "metadata": {},
   "outputs": [
    {
     "name": "stdout",
     "output_type": "stream",
     "text": [
      "1501/1501 [==============================] - 1s 658us/step - loss: 0.0125 - accuracy: 0.9970\n",
      "Accuracy: 99.70%\n"
     ]
    }
   ],
   "source": [
    "# Evaluate the model with input layer dropout and the accuracy score drop \n",
    "scores2 = Model2.evaluate(X_test, Y_test)\n",
    "print (\"Accuracy: %.2f%%\" %(scores2[1]*100))"
   ]
  },
  {
   "cell_type": "markdown",
   "metadata": {},
   "source": [
    "#### Analysis DNN with input layer dropout by using ROC curve"
   ]
  },
  {
   "cell_type": "code",
   "execution_count": 44,
   "metadata": {},
   "outputs": [],
   "source": [
    "# Make a prediction of X_test\n",
    "Y_pred2= Model2.predict(X_test)\n",
    "\n",
    "\n",
    "#Report results using nice ROC curves, report AUC values.\n",
    "rec_tr2, fall_out_tr2, thresholds_tr2 = roc_curve(Y_test,Y_pred2)"
   ]
  },
  {
   "cell_type": "code",
   "execution_count": 45,
   "metadata": {},
   "outputs": [
    {
     "data": {
      "image/png": "[encoded data removed]",
      "text/plain": [
       "<Figure size 432x288 with 1 Axes>"
      ]
     },
     "metadata": {
      "needs_background": "light"
     },
     "output_type": "display_data"
    }
   ],
   "source": [
    "#Report results using nice ROC curves, report AUC values.\n",
    "\n",
    "\n",
    "plt.plot([0,1],[0,1],'k--')\n",
    "plt.plot(rec_tr2,fall_out_tr2, label='DNN')\n",
    "plt.xlabel('Fall out')\n",
    "plt.ylabel('Recall/Sensitivity')\n",
    "plt.title('DNN model with input layer dropout ROC curve ')\n",
    "plt.show()"
   ]
  },
  {
   "cell_type": "code",
   "execution_count": 46,
   "metadata": {},
   "outputs": [
    {
     "name": "stdout",
     "output_type": "stream",
     "text": [
      "0.9999254322229274\n"
     ]
    }
   ],
   "source": [
    "#Report results using nice ROC curves, report AUC values.\n",
    "#Area under ROC curve\n",
    "\n",
    "Model_area2=roc_auc_score(Y_test,Y_pred2)\n",
    "print(Model_area2)"
   ]
  },
  {
   "cell_type": "code",
   "execution_count": 47,
   "metadata": {},
   "outputs": [
    {
     "data": {
      "text/html": [
       "<div>\n",
       "<style scoped>\n",
       "    .dataframe tbody tr th:only-of-type {\n",
       "        vertical-align: middle;\n",
       "    }\n",
       "\n",
       "    .dataframe tbody tr th {\n",
       "        vertical-align: top;\n",
       "    }\n",
       "\n",
       "    .dataframe thead th {\n",
       "        text-align: right;\n",
       "    }\n",
       "</style>\n",
       "<table border=\"1\" class=\"dataframe\">\n",
       "  <thead>\n",
       "    <tr style=\"text-align: right;\">\n",
       "      <th></th>\n",
       "      <th>Models</th>\n",
       "      <th>Accuracy score</th>\n",
       "      <th>Area under ROC curves</th>\n",
       "    </tr>\n",
       "  </thead>\n",
       "  <tbody>\n",
       "    <tr>\n",
       "      <th>0</th>\n",
       "      <td>RandomForest</td>\n",
       "      <td>0.841963</td>\n",
       "      <td>None</td>\n",
       "    </tr>\n",
       "    <tr>\n",
       "      <th>1</th>\n",
       "      <td>KNN</td>\n",
       "      <td>0.841963</td>\n",
       "      <td>None</td>\n",
       "    </tr>\n",
       "    <tr>\n",
       "      <th>2</th>\n",
       "      <td>Dnn without dropout</td>\n",
       "      <td>0.975126</td>\n",
       "      <td>0.909813</td>\n",
       "    </tr>\n",
       "    <tr>\n",
       "      <th>3</th>\n",
       "      <td>DNN model with input layer dropout</td>\n",
       "      <td>0.997042</td>\n",
       "      <td>0.999925</td>\n",
       "    </tr>\n",
       "  </tbody>\n",
       "</table>\n",
       "</div>"
      ],
      "text/plain": [
       "                                Models  Accuracy score Area under ROC curves\n",
       "0                         RandomForest        0.841963                  None\n",
       "1                                  KNN        0.841963                  None\n",
       "2                  Dnn without dropout        0.975126              0.909813\n",
       "3  DNN model with input layer dropout         0.997042              0.999925"
      ]
     },
     "execution_count": 47,
     "metadata": {},
     "output_type": "execute_result"
    }
   ],
   "source": [
    "# Store the accuracy score and area under ROC curves into a dataframe\n",
    "\n",
    "result_df4=pd.DataFrame(data=[['DNN model with input layer dropout ',scores2[1], Model_area2]],\n",
    "                      columns=['Models',\"Accuracy score\",'Area under ROC curves'])\n",
    "result_df = result_df.append(result_df4, ignore_index=True)\n",
    "result_df"
   ]
  },
  {
   "cell_type": "markdown",
   "metadata": {},
   "source": [
    "#### 4.4 Build and compile a deep learning model with hidden layer dropout"
   ]
  },
  {
   "cell_type": "code",
   "execution_count": 48,
   "metadata": {},
   "outputs": [
    {
     "name": "stdout",
     "output_type": "stream",
     "text": [
      "Epoch 1/90\n",
      "98/98 [==============================] - 0s 5ms/step - loss: 0.3492 - accuracy: 0.9736 - val_loss: 0.1287 - val_accuracy: 0.9751\n",
      "Epoch 2/90\n",
      "98/98 [==============================] - 0s 3ms/step - loss: 0.1269 - accuracy: 0.9752 - val_loss: 0.1091 - val_accuracy: 0.9751\n",
      "Epoch 3/90\n",
      "98/98 [==============================] - 0s 4ms/step - loss: 0.1152 - accuracy: 0.9752 - val_loss: 0.1059 - val_accuracy: 0.9751\n",
      "Epoch 4/90\n",
      "98/98 [==============================] - 0s 4ms/step - loss: 0.1127 - accuracy: 0.9752 - val_loss: 0.1023 - val_accuracy: 0.9751\n",
      "Epoch 5/90\n",
      "98/98 [==============================] - 0s 3ms/step - loss: 0.1088 - accuracy: 0.9752 - val_loss: 0.0959 - val_accuracy: 0.9751\n",
      "Epoch 6/90\n",
      "98/98 [==============================] - 0s 3ms/step - loss: 0.0975 - accuracy: 0.9752 - val_loss: 0.0752 - val_accuracy: 0.9751\n",
      "Epoch 7/90\n",
      "98/98 [==============================] - 0s 3ms/step - loss: 0.0740 - accuracy: 0.9752 - val_loss: 0.0624 - val_accuracy: 0.9751\n",
      "Epoch 8/90\n",
      "98/98 [==============================] - 0s 4ms/step - loss: 0.0615 - accuracy: 0.9752 - val_loss: 0.0518 - val_accuracy: 0.9751\n",
      "Epoch 9/90\n",
      "98/98 [==============================] - 0s 3ms/step - loss: 0.0536 - accuracy: 0.9752 - val_loss: 0.0424 - val_accuracy: 0.9751\n",
      "Epoch 10/90\n",
      "98/98 [==============================] - 0s 4ms/step - loss: 0.0457 - accuracy: 0.9752 - val_loss: 0.0416 - val_accuracy: 0.9751\n",
      "Epoch 11/90\n",
      "98/98 [==============================] - 0s 3ms/step - loss: 0.0412 - accuracy: 0.9752 - val_loss: 0.0334 - val_accuracy: 0.9751\n",
      "Epoch 12/90\n",
      "98/98 [==============================] - 0s 3ms/step - loss: 0.0369 - accuracy: 0.9752 - val_loss: 0.0359 - val_accuracy: 0.9751\n",
      "Epoch 13/90\n",
      "98/98 [==============================] - 0s 3ms/step - loss: 0.0342 - accuracy: 0.9752 - val_loss: 0.0285 - val_accuracy: 0.9751\n",
      "Epoch 14/90\n",
      "98/98 [==============================] - 0s 3ms/step - loss: 0.0304 - accuracy: 0.9752 - val_loss: 0.0331 - val_accuracy: 0.9751\n",
      "Epoch 15/90\n",
      "98/98 [==============================] - 0s 3ms/step - loss: 0.0305 - accuracy: 0.9838 - val_loss: 0.0257 - val_accuracy: 0.9955\n",
      "Epoch 16/90\n",
      "98/98 [==============================] - 0s 3ms/step - loss: 0.0287 - accuracy: 0.9939 - val_loss: 0.0252 - val_accuracy: 0.9954\n",
      "Epoch 17/90\n",
      "98/98 [==============================] - 0s 3ms/step - loss: 0.0285 - accuracy: 0.9941 - val_loss: 0.0237 - val_accuracy: 0.9961\n",
      "Epoch 18/90\n",
      "98/98 [==============================] - 0s 3ms/step - loss: 0.0263 - accuracy: 0.9948 - val_loss: 0.0267 - val_accuracy: 0.9938\n",
      "Epoch 19/90\n",
      "98/98 [==============================] - 0s 3ms/step - loss: 0.0249 - accuracy: 0.9954 - val_loss: 0.0226 - val_accuracy: 0.9966\n",
      "Epoch 20/90\n",
      "98/98 [==============================] - 0s 3ms/step - loss: 0.0258 - accuracy: 0.9947 - val_loss: 0.0219 - val_accuracy: 0.9968\n",
      "Epoch 21/90\n",
      "98/98 [==============================] - 0s 4ms/step - loss: 0.0238 - accuracy: 0.9957 - val_loss: 0.0227 - val_accuracy: 0.9963\n",
      "Epoch 22/90\n",
      "98/98 [==============================] - 0s 4ms/step - loss: 0.0239 - accuracy: 0.9955 - val_loss: 0.0208 - val_accuracy: 0.9969\n",
      "Epoch 23/90\n",
      "98/98 [==============================] - 0s 4ms/step - loss: 0.0225 - accuracy: 0.9964 - val_loss: 0.0200 - val_accuracy: 0.9973\n",
      "Epoch 24/90\n",
      "98/98 [==============================] - 0s 4ms/step - loss: 0.0217 - accuracy: 0.9964 - val_loss: 0.0193 - val_accuracy: 0.9972\n",
      "Epoch 25/90\n",
      "98/98 [==============================] - 1s 5ms/step - loss: 0.0211 - accuracy: 0.9965 - val_loss: 0.0283 - val_accuracy: 0.9911\n",
      "Epoch 26/90\n",
      "98/98 [==============================] - 0s 4ms/step - loss: 0.0206 - accuracy: 0.9967 - val_loss: 0.0188 - val_accuracy: 0.9974\n",
      "Epoch 27/90\n",
      "98/98 [==============================] - 0s 4ms/step - loss: 0.0203 - accuracy: 0.9970 - val_loss: 0.0175 - val_accuracy: 0.9980\n",
      "Epoch 28/90\n",
      "98/98 [==============================] - 0s 4ms/step - loss: 0.0213 - accuracy: 0.9966 - val_loss: 0.0164 - val_accuracy: 0.9985\n",
      "Epoch 29/90\n",
      "98/98 [==============================] - 0s 5ms/step - loss: 0.0185 - accuracy: 0.9976 - val_loss: 0.0199 - val_accuracy: 0.9958\n",
      "Epoch 30/90\n",
      "98/98 [==============================] - 0s 4ms/step - loss: 0.0187 - accuracy: 0.9971 - val_loss: 0.0156 - val_accuracy: 0.9986\n",
      "Epoch 31/90\n",
      "98/98 [==============================] - 0s 4ms/step - loss: 0.0167 - accuracy: 0.9978 - val_loss: 0.0163 - val_accuracy: 0.9978\n",
      "Epoch 32/90\n",
      "98/98 [==============================] - 0s 4ms/step - loss: 0.0691 - accuracy: 0.9853 - val_loss: 0.0987 - val_accuracy: 0.9751\n",
      "Epoch 33/90\n",
      "98/98 [==============================] - 0s 4ms/step - loss: 0.0679 - accuracy: 0.9798 - val_loss: 0.0231 - val_accuracy: 0.9935\n",
      "Epoch 34/90\n",
      "98/98 [==============================] - 0s 4ms/step - loss: 0.0190 - accuracy: 0.9970 - val_loss: 0.0151 - val_accuracy: 0.9987\n",
      "Epoch 35/90\n",
      "98/98 [==============================] - 0s 4ms/step - loss: 0.0164 - accuracy: 0.9979 - val_loss: 0.0143 - val_accuracy: 0.9988\n",
      "Epoch 36/90\n",
      "98/98 [==============================] - 0s 5ms/step - loss: 0.0155 - accuracy: 0.9982 - val_loss: 0.0140 - val_accuracy: 0.9989\n",
      "Epoch 37/90\n",
      "98/98 [==============================] - 0s 4ms/step - loss: 0.0152 - accuracy: 0.9981 - val_loss: 0.0142 - val_accuracy: 0.9986\n",
      "Epoch 38/90\n",
      "98/98 [==============================] - 0s 4ms/step - loss: 0.0153 - accuracy: 0.9979 - val_loss: 0.0131 - val_accuracy: 0.9989\n",
      "Epoch 39/90\n",
      "98/98 [==============================] - 0s 4ms/step - loss: 0.0148 - accuracy: 0.9979 - val_loss: 0.0126 - val_accuracy: 0.9990\n",
      "Epoch 40/90\n",
      "98/98 [==============================] - 0s 4ms/step - loss: 0.0133 - accuracy: 0.9985 - val_loss: 0.0121 - val_accuracy: 0.9988\n",
      "Epoch 41/90\n",
      "98/98 [==============================] - 0s 4ms/step - loss: 0.0131 - accuracy: 0.9984 - val_loss: 0.0115 - val_accuracy: 0.9991\n",
      "Epoch 42/90\n",
      "98/98 [==============================] - 0s 4ms/step - loss: 0.0129 - accuracy: 0.9983 - val_loss: 0.0116 - val_accuracy: 0.9989\n",
      "Epoch 43/90\n",
      "98/98 [==============================] - 0s 4ms/step - loss: 0.0134 - accuracy: 0.9981 - val_loss: 0.0114 - val_accuracy: 0.9988\n",
      "Epoch 44/90\n",
      "98/98 [==============================] - 0s 4ms/step - loss: 0.0122 - accuracy: 0.9984 - val_loss: 0.0112 - val_accuracy: 0.9989\n",
      "Epoch 45/90\n",
      "98/98 [==============================] - 0s 3ms/step - loss: 0.0117 - accuracy: 0.9985 - val_loss: 0.0103 - val_accuracy: 0.9990\n",
      "Epoch 46/90\n",
      "98/98 [==============================] - 0s 4ms/step - loss: 0.0127 - accuracy: 0.9979 - val_loss: 0.0107 - val_accuracy: 0.9991\n",
      "Epoch 47/90\n",
      "98/98 [==============================] - 0s 4ms/step - loss: 0.0128 - accuracy: 0.9978 - val_loss: 0.0160 - val_accuracy: 0.9956\n",
      "Epoch 48/90\n",
      "98/98 [==============================] - 0s 4ms/step - loss: 0.0118 - accuracy: 0.9981 - val_loss: 0.0108 - val_accuracy: 0.9987\n",
      "Epoch 49/90\n",
      "98/98 [==============================] - 0s 4ms/step - loss: 0.0105 - accuracy: 0.9986 - val_loss: 0.0093 - val_accuracy: 0.9989\n",
      "Epoch 50/90\n",
      "98/98 [==============================] - 0s 4ms/step - loss: 0.0101 - accuracy: 0.9986 - val_loss: 0.0085 - val_accuracy: 0.9993\n",
      "Epoch 51/90\n",
      "98/98 [==============================] - 0s 4ms/step - loss: 0.0095 - accuracy: 0.9987 - val_loss: 0.0099 - val_accuracy: 0.9988\n",
      "Epoch 52/90\n",
      "98/98 [==============================] - 0s 4ms/step - loss: 0.0101 - accuracy: 0.9983 - val_loss: 0.0079 - val_accuracy: 0.9993\n",
      "Epoch 53/90\n",
      "98/98 [==============================] - 0s 4ms/step - loss: 0.1075 - accuracy: 0.9797 - val_loss: 0.0696 - val_accuracy: 0.9751\n",
      "Epoch 54/90\n",
      "98/98 [==============================] - 0s 4ms/step - loss: 0.0553 - accuracy: 0.9824 - val_loss: 0.0135 - val_accuracy: 0.9964\n",
      "Epoch 55/90\n",
      "98/98 [==============================] - 0s 4ms/step - loss: 0.0126 - accuracy: 0.9981 - val_loss: 0.0083 - val_accuracy: 0.9993\n",
      "Epoch 56/90\n",
      "98/98 [==============================] - 0s 4ms/step - loss: 0.0100 - accuracy: 0.9986 - val_loss: 0.0086 - val_accuracy: 0.9993\n",
      "Epoch 57/90\n",
      "98/98 [==============================] - 0s 4ms/step - loss: 0.0093 - accuracy: 0.9987 - val_loss: 0.0084 - val_accuracy: 0.9991\n",
      "Epoch 58/90\n",
      "98/98 [==============================] - 0s 4ms/step - loss: 0.0096 - accuracy: 0.9984 - val_loss: 0.0094 - val_accuracy: 0.9986\n",
      "Epoch 59/90\n"
     ]
    },
    {
     "name": "stdout",
     "output_type": "stream",
     "text": [
      "98/98 [==============================] - 0s 4ms/step - loss: 0.0092 - accuracy: 0.9986 - val_loss: 0.0126 - val_accuracy: 0.9973\n",
      "Epoch 60/90\n",
      "98/98 [==============================] - 0s 4ms/step - loss: 0.0091 - accuracy: 0.9986 - val_loss: 0.0072 - val_accuracy: 0.9994\n",
      "Epoch 61/90\n",
      "98/98 [==============================] - 0s 3ms/step - loss: 0.0090 - accuracy: 0.9986 - val_loss: 0.0072 - val_accuracy: 0.9994\n",
      "Epoch 62/90\n",
      "98/98 [==============================] - 0s 3ms/step - loss: 0.0088 - accuracy: 0.9985 - val_loss: 0.0070 - val_accuracy: 0.9996\n",
      "Epoch 63/90\n",
      "98/98 [==============================] - 0s 4ms/step - loss: 0.0105 - accuracy: 0.9981 - val_loss: 0.0080 - val_accuracy: 0.9986\n",
      "Epoch 64/90\n",
      "98/98 [==============================] - 0s 4ms/step - loss: 0.0086 - accuracy: 0.9986 - val_loss: 0.0072 - val_accuracy: 0.9990\n",
      "Epoch 65/90\n",
      "98/98 [==============================] - 0s 4ms/step - loss: 0.0086 - accuracy: 0.9986 - val_loss: 0.0105 - val_accuracy: 0.9969\n",
      "Epoch 66/90\n",
      "98/98 [==============================] - 0s 4ms/step - loss: 0.0077 - accuracy: 0.9989 - val_loss: 0.0064 - val_accuracy: 0.9994\n",
      "Epoch 67/90\n",
      "98/98 [==============================] - 0s 4ms/step - loss: 0.0073 - accuracy: 0.9989 - val_loss: 0.0062 - val_accuracy: 0.9996\n",
      "Epoch 68/90\n",
      "98/98 [==============================] - 0s 4ms/step - loss: 0.0073 - accuracy: 0.9988 - val_loss: 0.0063 - val_accuracy: 0.9993\n",
      "Epoch 69/90\n",
      "98/98 [==============================] - 0s 4ms/step - loss: 0.1375 - accuracy: 0.9769 - val_loss: 0.0882 - val_accuracy: 0.9751\n",
      "Epoch 70/90\n",
      "98/98 [==============================] - 0s 4ms/step - loss: 0.0667 - accuracy: 0.9810 - val_loss: 0.0217 - val_accuracy: 0.9941\n",
      "Epoch 71/90\n",
      "98/98 [==============================] - 0s 4ms/step - loss: 0.0145 - accuracy: 0.9973 - val_loss: 0.0066 - val_accuracy: 0.9994\n",
      "Epoch 72/90\n",
      "98/98 [==============================] - 0s 4ms/step - loss: 0.0095 - accuracy: 0.9983 - val_loss: 0.0078 - val_accuracy: 0.9987\n",
      "Epoch 73/90\n",
      "98/98 [==============================] - 0s 4ms/step - loss: 0.0078 - accuracy: 0.9989 - val_loss: 0.0062 - val_accuracy: 0.9994\n",
      "Epoch 74/90\n",
      "98/98 [==============================] - 0s 4ms/step - loss: 0.0074 - accuracy: 0.9989 - val_loss: 0.0061 - val_accuracy: 0.9994\n",
      "Epoch 75/90\n",
      "98/98 [==============================] - 0s 4ms/step - loss: 0.0072 - accuracy: 0.9989 - val_loss: 0.0059 - val_accuracy: 0.9994\n",
      "Epoch 76/90\n",
      "98/98 [==============================] - 0s 4ms/step - loss: 0.0070 - accuracy: 0.9990 - val_loss: 0.0061 - val_accuracy: 0.9993\n",
      "Epoch 77/90\n",
      "98/98 [==============================] - 0s 4ms/step - loss: 0.0074 - accuracy: 0.9988 - val_loss: 0.0094 - val_accuracy: 0.9973\n",
      "Epoch 78/90\n",
      "98/98 [==============================] - 0s 4ms/step - loss: 0.0071 - accuracy: 0.9989 - val_loss: 0.0060 - val_accuracy: 0.9992\n",
      "Epoch 79/90\n",
      "98/98 [==============================] - 0s 4ms/step - loss: 0.0066 - accuracy: 0.9990 - val_loss: 0.0058 - val_accuracy: 0.9993\n",
      "Epoch 80/90\n",
      "98/98 [==============================] - 0s 4ms/step - loss: 0.0066 - accuracy: 0.9990 - val_loss: 0.0062 - val_accuracy: 0.9989\n",
      "Epoch 81/90\n",
      "98/98 [==============================] - 0s 4ms/step - loss: 0.0062 - accuracy: 0.9991 - val_loss: 0.0054 - val_accuracy: 0.9995\n",
      "Epoch 82/90\n",
      "98/98 [==============================] - 0s 4ms/step - loss: 0.0061 - accuracy: 0.9991 - val_loss: 0.0082 - val_accuracy: 0.9983\n",
      "Epoch 83/90\n",
      "98/98 [==============================] - 0s 4ms/step - loss: 0.0069 - accuracy: 0.9986 - val_loss: 0.0052 - val_accuracy: 0.9996\n",
      "Epoch 84/90\n",
      "98/98 [==============================] - 0s 4ms/step - loss: 0.0114 - accuracy: 0.9971 - val_loss: 0.0052 - val_accuracy: 0.9995\n",
      "Epoch 85/90\n",
      "98/98 [==============================] - 0s 4ms/step - loss: 0.0063 - accuracy: 0.9989 - val_loss: 0.0047 - val_accuracy: 0.9995\n",
      "Epoch 86/90\n",
      "98/98 [==============================] - 0s 4ms/step - loss: 0.0066 - accuracy: 0.9988 - val_loss: 0.0072 - val_accuracy: 0.9982\n",
      "Epoch 87/90\n",
      "98/98 [==============================] - 0s 4ms/step - loss: 0.0057 - accuracy: 0.9990 - val_loss: 0.0048 - val_accuracy: 0.9994\n",
      "Epoch 88/90\n",
      "98/98 [==============================] - 0s 3ms/step - loss: 0.0064 - accuracy: 0.9988 - val_loss: 0.0170 - val_accuracy: 0.9935\n",
      "Epoch 89/90\n",
      "98/98 [==============================] - 0s 4ms/step - loss: 0.0081 - accuracy: 0.9982 - val_loss: 0.0050 - val_accuracy: 0.9993\n",
      "Epoch 90/90\n",
      "98/98 [==============================] - 0s 4ms/step - loss: 0.0066 - accuracy: 0.9986 - val_loss: 0.0042 - val_accuracy: 0.9996\n"
     ]
    },
    {
     "data": {
      "text/plain": [
       "<tensorflow.python.keras.callbacks.History at 0x22f72f63070>"
      ]
     },
     "execution_count": 48,
     "metadata": {},
     "output_type": "execute_result"
    }
   ],
   "source": [
    "# Build the deep neural network with dropout of 0.2. i.e. dropping out at random 20% of \n",
    "#in an input layer\n",
    "\n",
    "Model3 = Sequential()\n",
    "Model3.add(Dense(40, input_dim=38, kernel_initializer='uniform', activation='relu'))\n",
    "Model3.add(Dense(30, kernel_initializer='uniform', activation='relu'))\n",
    "Model3.add(Dense(30, kernel_initializer='uniform', activation='relu'))\n",
    "Model3.add(Dense(20, kernel_initializer='uniform', activation='relu'))\n",
    "Model3.add(Dense(20, kernel_initializer='uniform', activation='relu'))\n",
    "Model3.add(Dense(10, kernel_initializer='uniform', activation='relu'))\n",
    "Model3.add(Dense(6, kernel_initializer='uniform', activation='relu'))\n",
    "Model3.add(Dropout(0.2))\n",
    "Model3.add(Dense(1, kernel_initializer='uniform', activation='sigmoid'))\n",
    "\n",
    "# Compile the DNN\n",
    "\n",
    "Model3.compile(loss='binary_crossentropy', optimizer='adam', metrics=['accuracy'])\n",
    "\n",
    "# Fit the DNN with train data\n",
    "\n",
    "Model3.fit(X_train, Y_train, validation_data=(X_test, Y_test), epochs=90, batch_size=1000)"
   ]
  },
  {
   "cell_type": "code",
   "execution_count": 49,
   "metadata": {},
   "outputs": [
    {
     "name": "stdout",
     "output_type": "stream",
     "text": [
      "1501/1501 [==============================] - 1s 662us/step - loss: 0.0042 - accuracy: 0.9996\n",
      "Accuracy: 99.96%\n"
     ]
    }
   ],
   "source": [
    "# Evaluate the model with hidden input layer dropout.\n",
    "# Even the accuracy is still very high, it still less than the DNN model without dropout\n",
    "\n",
    "scores3 = Model3.evaluate(X_test, Y_test)\n",
    "print (\"Accuracy: %.2f%%\" %(scores3[1]*100))"
   ]
  },
  {
   "cell_type": "markdown",
   "metadata": {},
   "source": [
    "#### Analysis DNN with hidden input layer  dropout"
   ]
  },
  {
   "cell_type": "code",
   "execution_count": 50,
   "metadata": {},
   "outputs": [],
   "source": [
    "# Make a prediction of X_test\n",
    "Y_pred3= Model3.predict(X_test)\n",
    "\n",
    "\n",
    "#Report results using nice ROC curves, report AUC values.\n",
    "rec_tr3, fall_out_tr3, thresholds_tr3 = roc_curve(Y_test,Y_pred3)"
   ]
  },
  {
   "cell_type": "code",
   "execution_count": 51,
   "metadata": {},
   "outputs": [
    {
     "data": {
      "image/png": "[encoded data removed]",
      "text/plain": [
       "<Figure size 432x288 with 1 Axes>"
      ]
     },
     "metadata": {
      "needs_background": "light"
     },
     "output_type": "display_data"
    }
   ],
   "source": [
    "#Report results using nice ROC curves, report AUC values.\n",
    "\n",
    "\n",
    "plt.plot([0,1],[0,1],'k--')\n",
    "plt.plot(rec_tr3,fall_out_tr3, label='DNN')\n",
    "plt.xlabel('Fall out')\n",
    "plt.ylabel('Recall/Sensitivity')\n",
    "plt.title('DNN model with hidden layer dropout ROC curve ')\n",
    "plt.show()"
   ]
  },
  {
   "cell_type": "code",
   "execution_count": 52,
   "metadata": {},
   "outputs": [
    {
     "name": "stdout",
     "output_type": "stream",
     "text": [
      "0.9999820536339763\n"
     ]
    }
   ],
   "source": [
    "#Report results using nice ROC curves, report AUC values.\n",
    "#Area under ROC curve\n",
    "\n",
    "Model_area3=roc_auc_score(Y_test,Y_pred3)\n",
    "print(Model_area3)"
   ]
  },
  {
   "cell_type": "code",
   "execution_count": 53,
   "metadata": {},
   "outputs": [
    {
     "data": {
      "text/html": [
       "<div>\n",
       "<style scoped>\n",
       "    .dataframe tbody tr th:only-of-type {\n",
       "        vertical-align: middle;\n",
       "    }\n",
       "\n",
       "    .dataframe tbody tr th {\n",
       "        vertical-align: top;\n",
       "    }\n",
       "\n",
       "    .dataframe thead th {\n",
       "        text-align: right;\n",
       "    }\n",
       "</style>\n",
       "<table border=\"1\" class=\"dataframe\">\n",
       "  <thead>\n",
       "    <tr style=\"text-align: right;\">\n",
       "      <th></th>\n",
       "      <th>Models</th>\n",
       "      <th>Accuracy score</th>\n",
       "      <th>Area under ROC curves</th>\n",
       "    </tr>\n",
       "  </thead>\n",
       "  <tbody>\n",
       "    <tr>\n",
       "      <th>0</th>\n",
       "      <td>RandomForest</td>\n",
       "      <td>0.841963</td>\n",
       "      <td>None</td>\n",
       "    </tr>\n",
       "    <tr>\n",
       "      <th>1</th>\n",
       "      <td>KNN</td>\n",
       "      <td>0.841963</td>\n",
       "      <td>None</td>\n",
       "    </tr>\n",
       "    <tr>\n",
       "      <th>2</th>\n",
       "      <td>Dnn without dropout</td>\n",
       "      <td>0.975126</td>\n",
       "      <td>0.909813</td>\n",
       "    </tr>\n",
       "    <tr>\n",
       "      <th>3</th>\n",
       "      <td>DNN model with input layer dropout</td>\n",
       "      <td>0.997042</td>\n",
       "      <td>0.999925</td>\n",
       "    </tr>\n",
       "    <tr>\n",
       "      <th>4</th>\n",
       "      <td>DNN model with hidden layer dropout</td>\n",
       "      <td>0.999646</td>\n",
       "      <td>0.999982</td>\n",
       "    </tr>\n",
       "  </tbody>\n",
       "</table>\n",
       "</div>"
      ],
      "text/plain": [
       "                                 Models  Accuracy score Area under ROC curves\n",
       "0                          RandomForest        0.841963                  None\n",
       "1                                   KNN        0.841963                  None\n",
       "2                   Dnn without dropout        0.975126              0.909813\n",
       "3   DNN model with input layer dropout         0.997042              0.999925\n",
       "4  DNN model with hidden layer dropout         0.999646              0.999982"
      ]
     },
     "execution_count": 53,
     "metadata": {},
     "output_type": "execute_result"
    }
   ],
   "source": [
    "result_df4=pd.DataFrame(data=[['DNN model with hidden layer dropout ',scores3[1],Model_area3]],\n",
    "                      columns=['Models',\"Accuracy score\",'Area under ROC curves'])\n",
    "result_df = result_df.append(result_df4, ignore_index=True)\n",
    "result_df"
   ]
  },
  {
   "cell_type": "markdown",
   "metadata": {},
   "source": [
    "#### 4.5 Build and compile a deep learning model with hidden layer dropout with weight constraint "
   ]
  },
  {
   "cell_type": "code",
   "execution_count": 54,
   "metadata": {},
   "outputs": [
    {
     "name": "stdout",
     "output_type": "stream",
     "text": [
      "Epoch 1/90\n",
      "98/98 [==============================] - 0s 5ms/step - loss: 0.3756 - accuracy: 0.9669 - val_loss: 0.1270 - val_accuracy: 0.9751\n",
      "Epoch 2/90\n",
      "98/98 [==============================] - 0s 4ms/step - loss: 0.1544 - accuracy: 0.9752 - val_loss: 0.1080 - val_accuracy: 0.9751\n",
      "Epoch 3/90\n",
      "98/98 [==============================] - 0s 4ms/step - loss: 0.1429 - accuracy: 0.9752 - val_loss: 0.1064 - val_accuracy: 0.9751\n",
      "Epoch 4/90\n",
      "98/98 [==============================] - 0s 4ms/step - loss: 0.1402 - accuracy: 0.9752 - val_loss: 0.1037 - val_accuracy: 0.9751\n",
      "Epoch 5/90\n",
      "98/98 [==============================] - 0s 4ms/step - loss: 0.1361 - accuracy: 0.9752 - val_loss: 0.1057 - val_accuracy: 0.9751\n",
      "Epoch 6/90\n",
      "98/98 [==============================] - 0s 4ms/step - loss: 0.1279 - accuracy: 0.9752 - val_loss: 0.0878 - val_accuracy: 0.9751\n",
      "Epoch 7/90\n",
      "98/98 [==============================] - 0s 4ms/step - loss: 0.1098 - accuracy: 0.9752 - val_loss: 0.0682 - val_accuracy: 0.9751\n",
      "Epoch 8/90\n",
      "98/98 [==============================] - 1s 5ms/step - loss: 0.0934 - accuracy: 0.9752 - val_loss: 0.0573 - val_accuracy: 0.9751\n",
      "Epoch 9/90\n",
      "98/98 [==============================] - 0s 4ms/step - loss: 0.0823 - accuracy: 0.9752 - val_loss: 0.0620 - val_accuracy: 0.9751\n",
      "Epoch 10/90\n",
      "98/98 [==============================] - 0s 4ms/step - loss: 0.0717 - accuracy: 0.9752 - val_loss: 0.0451 - val_accuracy: 0.9751\n",
      "Epoch 11/90\n",
      "98/98 [==============================] - 0s 3ms/step - loss: 0.0683 - accuracy: 0.9752 - val_loss: 0.0356 - val_accuracy: 0.9751\n",
      "Epoch 12/90\n",
      "98/98 [==============================] - 0s 3ms/step - loss: 0.0610 - accuracy: 0.9752 - val_loss: 0.0323 - val_accuracy: 0.9751\n",
      "Epoch 13/90\n",
      "98/98 [==============================] - 0s 3ms/step - loss: 0.0583 - accuracy: 0.9752 - val_loss: 0.0340 - val_accuracy: 0.9751\n",
      "Epoch 14/90\n",
      "98/98 [==============================] - 0s 4ms/step - loss: 0.0603 - accuracy: 0.9752 - val_loss: 0.0323 - val_accuracy: 0.9751\n",
      "Epoch 15/90\n",
      "98/98 [==============================] - 0s 4ms/step - loss: 0.0549 - accuracy: 0.9752 - val_loss: 0.0289 - val_accuracy: 0.9751\n",
      "Epoch 16/90\n",
      "98/98 [==============================] - 0s 3ms/step - loss: 0.0541 - accuracy: 0.9752 - val_loss: 0.0289 - val_accuracy: 0.9751\n",
      "Epoch 17/90\n",
      "98/98 [==============================] - 0s 3ms/step - loss: 0.0530 - accuracy: 0.9752 - val_loss: 0.0282 - val_accuracy: 0.9751\n",
      "Epoch 18/90\n",
      "98/98 [==============================] - 0s 4ms/step - loss: 0.0516 - accuracy: 0.9752 - val_loss: 0.0277 - val_accuracy: 0.9751\n",
      "Epoch 19/90\n",
      "98/98 [==============================] - 0s 4ms/step - loss: 0.0502 - accuracy: 0.9752 - val_loss: 0.0271 - val_accuracy: 0.9751\n",
      "Epoch 20/90\n",
      "98/98 [==============================] - 0s 4ms/step - loss: 0.0507 - accuracy: 0.9752 - val_loss: 0.0271 - val_accuracy: 0.9751\n",
      "Epoch 21/90\n",
      "98/98 [==============================] - 0s 4ms/step - loss: 0.0498 - accuracy: 0.9752 - val_loss: 0.0268 - val_accuracy: 0.9751\n",
      "Epoch 22/90\n",
      "98/98 [==============================] - 0s 4ms/step - loss: 0.0497 - accuracy: 0.9752 - val_loss: 0.0269 - val_accuracy: 0.9751\n",
      "Epoch 23/90\n",
      "98/98 [==============================] - 0s 4ms/step - loss: 0.0484 - accuracy: 0.9752 - val_loss: 0.0271 - val_accuracy: 0.9751\n",
      "Epoch 24/90\n",
      "98/98 [==============================] - 0s 4ms/step - loss: 0.0478 - accuracy: 0.9752 - val_loss: 0.0276 - val_accuracy: 0.9751\n",
      "Epoch 25/90\n",
      "98/98 [==============================] - 0s 4ms/step - loss: 0.0480 - accuracy: 0.9752 - val_loss: 0.0266 - val_accuracy: 0.9751\n",
      "Epoch 26/90\n",
      "98/98 [==============================] - 0s 4ms/step - loss: 0.0493 - accuracy: 0.9752 - val_loss: 0.0265 - val_accuracy: 0.9751\n",
      "Epoch 27/90\n",
      "98/98 [==============================] - 0s 4ms/step - loss: 0.0483 - accuracy: 0.9752 - val_loss: 0.0258 - val_accuracy: 0.9751\n",
      "Epoch 28/90\n",
      "98/98 [==============================] - 0s 3ms/step - loss: 0.0489 - accuracy: 0.9752 - val_loss: 0.0275 - val_accuracy: 0.9751\n",
      "Epoch 29/90\n",
      "98/98 [==============================] - 0s 4ms/step - loss: 0.0468 - accuracy: 0.9752 - val_loss: 0.0267 - val_accuracy: 0.9751\n",
      "Epoch 30/90\n",
      "98/98 [==============================] - 0s 4ms/step - loss: 0.0472 - accuracy: 0.9752 - val_loss: 0.0259 - val_accuracy: 0.9751\n",
      "Epoch 31/90\n",
      "98/98 [==============================] - 0s 4ms/step - loss: 0.0464 - accuracy: 0.9752 - val_loss: 0.0262 - val_accuracy: 0.9751\n",
      "Epoch 32/90\n",
      "98/98 [==============================] - 0s 4ms/step - loss: 0.0487 - accuracy: 0.9752 - val_loss: 0.0261 - val_accuracy: 0.9751\n",
      "Epoch 33/90\n",
      "98/98 [==============================] - 0s 4ms/step - loss: 0.0467 - accuracy: 0.9752 - val_loss: 0.0261 - val_accuracy: 0.9751\n",
      "Epoch 34/90\n",
      "98/98 [==============================] - 0s 4ms/step - loss: 0.0473 - accuracy: 0.9752 - val_loss: 0.0261 - val_accuracy: 0.9751\n",
      "Epoch 35/90\n",
      "98/98 [==============================] - 0s 4ms/step - loss: 0.0464 - accuracy: 0.9752 - val_loss: 0.0273 - val_accuracy: 0.9751\n",
      "Epoch 36/90\n",
      "98/98 [==============================] - 0s 5ms/step - loss: 0.0459 - accuracy: 0.9752 - val_loss: 0.0276 - val_accuracy: 0.9751\n",
      "Epoch 37/90\n",
      "98/98 [==============================] - 1s 5ms/step - loss: 0.0464 - accuracy: 0.9752 - val_loss: 0.0264 - val_accuracy: 0.9751\n",
      "Epoch 38/90\n",
      "98/98 [==============================] - 0s 4ms/step - loss: 0.0453 - accuracy: 0.9752 - val_loss: 0.0259 - val_accuracy: 0.9751\n",
      "Epoch 39/90\n",
      "98/98 [==============================] - 1s 5ms/step - loss: 0.0456 - accuracy: 0.9752 - val_loss: 0.0258 - val_accuracy: 0.9751\n",
      "Epoch 40/90\n",
      "98/98 [==============================] - 0s 5ms/step - loss: 0.0450 - accuracy: 0.9752 - val_loss: 0.0266 - val_accuracy: 0.9751\n",
      "Epoch 41/90\n",
      "98/98 [==============================] - 0s 5ms/step - loss: 0.0441 - accuracy: 0.9752 - val_loss: 0.0255 - val_accuracy: 0.9751\n",
      "Epoch 42/90\n",
      "98/98 [==============================] - 0s 4ms/step - loss: 0.0458 - accuracy: 0.9752 - val_loss: 0.0258 - val_accuracy: 0.9751\n",
      "Epoch 43/90\n",
      "98/98 [==============================] - 0s 4ms/step - loss: 0.0548 - accuracy: 0.9752 - val_loss: 0.0666 - val_accuracy: 0.9751\n",
      "Epoch 44/90\n",
      "98/98 [==============================] - 0s 4ms/step - loss: 0.0482 - accuracy: 0.9752 - val_loss: 0.0263 - val_accuracy: 0.9751\n",
      "Epoch 45/90\n",
      "98/98 [==============================] - 0s 4ms/step - loss: 0.0446 - accuracy: 0.9752 - val_loss: 0.0262 - val_accuracy: 0.9751\n",
      "Epoch 46/90\n",
      "98/98 [==============================] - 0s 4ms/step - loss: 0.0448 - accuracy: 0.9752 - val_loss: 0.0258 - val_accuracy: 0.9751\n",
      "Epoch 47/90\n",
      "98/98 [==============================] - 0s 4ms/step - loss: 0.0445 - accuracy: 0.9752 - val_loss: 0.0263 - val_accuracy: 0.9751\n",
      "Epoch 48/90\n",
      "98/98 [==============================] - 0s 4ms/step - loss: 0.0451 - accuracy: 0.9752 - val_loss: 0.0261 - val_accuracy: 0.9751\n",
      "Epoch 49/90\n",
      "98/98 [==============================] - 0s 4ms/step - loss: 0.0441 - accuracy: 0.9752 - val_loss: 0.0275 - val_accuracy: 0.9751\n",
      "Epoch 50/90\n",
      "98/98 [==============================] - 0s 4ms/step - loss: 0.0443 - accuracy: 0.9752 - val_loss: 0.0254 - val_accuracy: 0.9751\n",
      "Epoch 51/90\n",
      "98/98 [==============================] - 0s 4ms/step - loss: 0.0470 - accuracy: 0.9752 - val_loss: 0.0254 - val_accuracy: 0.9751\n",
      "Epoch 52/90\n",
      "98/98 [==============================] - 0s 3ms/step - loss: 0.0441 - accuracy: 0.9752 - val_loss: 0.0271 - val_accuracy: 0.9751\n",
      "Epoch 53/90\n",
      "98/98 [==============================] - 0s 4ms/step - loss: 0.0455 - accuracy: 0.9752 - val_loss: 0.0256 - val_accuracy: 0.9751\n",
      "Epoch 54/90\n",
      "98/98 [==============================] - 0s 4ms/step - loss: 0.0449 - accuracy: 0.9752 - val_loss: 0.0253 - val_accuracy: 0.9751\n",
      "Epoch 55/90\n",
      "98/98 [==============================] - 0s 4ms/step - loss: 0.0443 - accuracy: 0.9752 - val_loss: 0.0258 - val_accuracy: 0.9751\n",
      "Epoch 56/90\n",
      "98/98 [==============================] - 0s 4ms/step - loss: 0.0440 - accuracy: 0.9752 - val_loss: 0.0252 - val_accuracy: 0.9751\n",
      "Epoch 57/90\n",
      "98/98 [==============================] - 0s 3ms/step - loss: 0.0452 - accuracy: 0.9752 - val_loss: 0.0252 - val_accuracy: 0.9751\n",
      "Epoch 58/90\n",
      "98/98 [==============================] - 0s 4ms/step - loss: 0.0454 - accuracy: 0.9752 - val_loss: 0.0251 - val_accuracy: 0.9751\n",
      "Epoch 59/90\n"
     ]
    },
    {
     "name": "stdout",
     "output_type": "stream",
     "text": [
      "98/98 [==============================] - 0s 4ms/step - loss: 0.0445 - accuracy: 0.9752 - val_loss: 0.0254 - val_accuracy: 0.9751\n",
      "Epoch 60/90\n",
      "98/98 [==============================] - 0s 3ms/step - loss: 0.0440 - accuracy: 0.9752 - val_loss: 0.0254 - val_accuracy: 0.9751\n",
      "Epoch 61/90\n",
      "98/98 [==============================] - 0s 3ms/step - loss: 0.0594 - accuracy: 0.9752 - val_loss: 0.0265 - val_accuracy: 0.9751\n",
      "Epoch 62/90\n",
      "98/98 [==============================] - 0s 4ms/step - loss: 0.0443 - accuracy: 0.9752 - val_loss: 0.0261 - val_accuracy: 0.9751\n",
      "Epoch 63/90\n",
      "98/98 [==============================] - 0s 4ms/step - loss: 0.0441 - accuracy: 0.9752 - val_loss: 0.0262 - val_accuracy: 0.9751\n",
      "Epoch 64/90\n",
      "98/98 [==============================] - 0s 4ms/step - loss: 0.0434 - accuracy: 0.9752 - val_loss: 0.0256 - val_accuracy: 0.9751\n",
      "Epoch 65/90\n",
      "98/98 [==============================] - 0s 4ms/step - loss: 0.0435 - accuracy: 0.9752 - val_loss: 0.0261 - val_accuracy: 0.9751\n",
      "Epoch 66/90\n",
      "98/98 [==============================] - 0s 3ms/step - loss: 0.0437 - accuracy: 0.9752 - val_loss: 0.0256 - val_accuracy: 0.9751\n",
      "Epoch 67/90\n",
      "98/98 [==============================] - 0s 4ms/step - loss: 0.0440 - accuracy: 0.9752 - val_loss: 0.0252 - val_accuracy: 0.9751\n",
      "Epoch 68/90\n",
      "98/98 [==============================] - 0s 4ms/step - loss: 0.0437 - accuracy: 0.9752 - val_loss: 0.0252 - val_accuracy: 0.9751\n",
      "Epoch 69/90\n",
      "98/98 [==============================] - 0s 3ms/step - loss: 0.0441 - accuracy: 0.9752 - val_loss: 0.0254 - val_accuracy: 0.9751\n",
      "Epoch 70/90\n",
      "98/98 [==============================] - 0s 3ms/step - loss: 0.0438 - accuracy: 0.9752 - val_loss: 0.0267 - val_accuracy: 0.9751\n",
      "Epoch 71/90\n",
      "98/98 [==============================] - 0s 3ms/step - loss: 0.0443 - accuracy: 0.9752 - val_loss: 0.0258 - val_accuracy: 0.9751\n",
      "Epoch 72/90\n",
      "98/98 [==============================] - 0s 4ms/step - loss: 0.0444 - accuracy: 0.9752 - val_loss: 0.0259 - val_accuracy: 0.9751\n",
      "Epoch 73/90\n",
      "98/98 [==============================] - ETA: 0s - loss: 0.0436 - accuracy: 0.97 - 0s 3ms/step - loss: 0.0436 - accuracy: 0.9752 - val_loss: 0.0248 - val_accuracy: 0.9751\n",
      "Epoch 74/90\n",
      "98/98 [==============================] - 0s 3ms/step - loss: 0.0440 - accuracy: 0.9752 - val_loss: 0.0254 - val_accuracy: 0.9751\n",
      "Epoch 75/90\n",
      "98/98 [==============================] - 0s 4ms/step - loss: 0.0448 - accuracy: 0.9752 - val_loss: 0.0251 - val_accuracy: 0.9751\n",
      "Epoch 76/90\n",
      "98/98 [==============================] - 0s 4ms/step - loss: 0.0438 - accuracy: 0.9752 - val_loss: 0.0251 - val_accuracy: 0.9751\n",
      "Epoch 77/90\n",
      "98/98 [==============================] - 0s 3ms/step - loss: 0.0433 - accuracy: 0.9752 - val_loss: 0.0263 - val_accuracy: 0.9751\n",
      "Epoch 78/90\n",
      "98/98 [==============================] - 0s 3ms/step - loss: 0.0438 - accuracy: 0.9752 - val_loss: 0.0263 - val_accuracy: 0.9751\n",
      "Epoch 79/90\n",
      "98/98 [==============================] - 0s 3ms/step - loss: 0.0441 - accuracy: 0.9752 - val_loss: 0.0248 - val_accuracy: 0.9751\n",
      "Epoch 80/90\n",
      "98/98 [==============================] - 0s 3ms/step - loss: 0.0447 - accuracy: 0.9752 - val_loss: 0.0254 - val_accuracy: 0.9751\n",
      "Epoch 81/90\n",
      "98/98 [==============================] - 0s 4ms/step - loss: 0.0449 - accuracy: 0.9752 - val_loss: 0.0261 - val_accuracy: 0.9751\n",
      "Epoch 82/90\n",
      "98/98 [==============================] - 0s 4ms/step - loss: 0.0436 - accuracy: 0.9752 - val_loss: 0.0266 - val_accuracy: 0.9751\n",
      "Epoch 83/90\n",
      "98/98 [==============================] - 0s 4ms/step - loss: 0.0432 - accuracy: 0.9752 - val_loss: 0.0247 - val_accuracy: 0.9751\n",
      "Epoch 84/90\n",
      "98/98 [==============================] - 0s 4ms/step - loss: 0.0436 - accuracy: 0.9752 - val_loss: 0.0270 - val_accuracy: 0.9751\n",
      "Epoch 85/90\n",
      "98/98 [==============================] - 0s 4ms/step - loss: 0.0703 - accuracy: 0.9752 - val_loss: 0.2838 - val_accuracy: 0.9751\n",
      "Epoch 86/90\n",
      "98/98 [==============================] - 0s 4ms/step - loss: 0.0924 - accuracy: 0.9752 - val_loss: 0.0395 - val_accuracy: 0.9751\n",
      "Epoch 87/90\n",
      "98/98 [==============================] - 0s 4ms/step - loss: 0.0476 - accuracy: 0.9752 - val_loss: 0.0277 - val_accuracy: 0.9751\n",
      "Epoch 88/90\n",
      "98/98 [==============================] - 0s 3ms/step - loss: 0.0438 - accuracy: 0.9752 - val_loss: 0.0276 - val_accuracy: 0.9751\n",
      "Epoch 89/90\n",
      "98/98 [==============================] - 0s 4ms/step - loss: 0.0442 - accuracy: 0.9752 - val_loss: 0.0268 - val_accuracy: 0.9751\n",
      "Epoch 90/90\n",
      "98/98 [==============================] - 0s 4ms/step - loss: 0.0436 - accuracy: 0.9752 - val_loss: 0.0264 - val_accuracy: 0.9751\n"
     ]
    },
    {
     "data": {
      "text/plain": [
       "<tensorflow.python.keras.callbacks.History at 0x22f73397910>"
      ]
     },
     "execution_count": 54,
     "metadata": {},
     "output_type": "execute_result"
    }
   ],
   "source": [
    "# Build the deep neural network with dropout of 0.2. i.e. dropping out at random 20% of \n",
    "#in an input layer\n",
    "\n",
    "Model4 = Sequential()\n",
    "Model4.add(Dense(40, input_dim=38, kernel_initializer='uniform', activation='relu'))\n",
    "Model4.add(Dense(30, kernel_initializer='uniform', activation='relu'))\n",
    "Model4.add(Dense(30, kernel_initializer='uniform', activation='relu'))\n",
    "Model4.add(Dense(20, kernel_initializer='uniform', activation='relu'))\n",
    "Model4.add(Dense(20, kernel_initializer='uniform', activation='relu'))\n",
    "Model4.add(Dense(10, kernel_initializer='uniform', activation='relu'))\n",
    "Model4.add(Dense(6, kernel_initializer='uniform', activation='relu'))\n",
    "Model4.add(Dropout(0.2))\n",
    "Model4.add(Dense(1, kernel_initializer='uniform', activation='sigmoid',kernel_constraint=maxnorm(3)))\n",
    "\n",
    "# Compile the DNN\n",
    "\n",
    "Model4.compile(loss='binary_crossentropy', optimizer='adam', metrics=['accuracy'])\n",
    "\n",
    "# Fit the DNN with train data\n",
    "\n",
    "Model4.fit(X_train, Y_train, validation_data=(X_test, Y_test), epochs=90, batch_size=1000)"
   ]
  },
  {
   "cell_type": "code",
   "execution_count": 55,
   "metadata": {},
   "outputs": [
    {
     "name": "stdout",
     "output_type": "stream",
     "text": [
      "1501/1501 [==============================] - 1s 672us/step - loss: 0.0264 - accuracy: 0.9751\n",
      "Accuracy: 97.51%\n"
     ]
    }
   ],
   "source": [
    "# Evaluate the model with hidden layer dropout with weight constraint,\n",
    "# accuracy score is less the DNN model without dropout\n",
    "\n",
    "\n",
    "scores4 = Model4.evaluate(X_test, Y_test)\n",
    "print (\"Accuracy: %.2f%%\" %(scores4[1]*100))"
   ]
  },
  {
   "cell_type": "markdown",
   "metadata": {},
   "source": [
    "#### Analysis DNN with hidden layer dropout and weight constraint by using ROC curve"
   ]
  },
  {
   "cell_type": "code",
   "execution_count": 56,
   "metadata": {},
   "outputs": [],
   "source": [
    "# Make a prediction of X_test\n",
    "Y_pred4= Model4.predict(X_test)\n",
    "\n",
    "\n",
    "#Report results using nice ROC curves, report AUC values.\n",
    "rec_tr4, fall_out_tr4, thresholds_tr3 = roc_curve(Y_test,Y_pred4)"
   ]
  },
  {
   "cell_type": "code",
   "execution_count": 57,
   "metadata": {},
   "outputs": [
    {
     "data": {
      "image/png": "[encoded data removed]",
      "text/plain": [
       "<Figure size 432x288 with 1 Axes>"
      ]
     },
     "metadata": {
      "needs_background": "light"
     },
     "output_type": "display_data"
    }
   ],
   "source": [
    "#Report results using nice ROC curves, report AUC values.\n",
    "\n",
    "\n",
    "plt.plot([0,1],[0,1],'k--')\n",
    "plt.plot(rec_tr4,fall_out_tr4, label='DNN')\n",
    "plt.xlabel('Fall out')\n",
    "plt.ylabel('Recall/Sensitivity')\n",
    "plt.title('DNN model with hidden layer dropout with weight constraint ROC curve ')\n",
    "plt.show()"
   ]
  },
  {
   "cell_type": "code",
   "execution_count": 58,
   "metadata": {},
   "outputs": [
    {
     "name": "stdout",
     "output_type": "stream",
     "text": [
      "0.9997776475667233\n"
     ]
    }
   ],
   "source": [
    "#Report results using nice ROC curves, report AUC values.\n",
    "#Area under ROC curve\n",
    "\n",
    "Model_area4=roc_auc_score(Y_test,Y_pred4)\n",
    "print(Model_area4)"
   ]
  },
  {
   "cell_type": "code",
   "execution_count": 59,
   "metadata": {},
   "outputs": [
    {
     "data": {
      "text/html": [
       "<div>\n",
       "<style scoped>\n",
       "    .dataframe tbody tr th:only-of-type {\n",
       "        vertical-align: middle;\n",
       "    }\n",
       "\n",
       "    .dataframe tbody tr th {\n",
       "        vertical-align: top;\n",
       "    }\n",
       "\n",
       "    .dataframe thead th {\n",
       "        text-align: right;\n",
       "    }\n",
       "</style>\n",
       "<table border=\"1\" class=\"dataframe\">\n",
       "  <thead>\n",
       "    <tr style=\"text-align: right;\">\n",
       "      <th></th>\n",
       "      <th>Models</th>\n",
       "      <th>Accuracy score</th>\n",
       "      <th>Area under ROC curves</th>\n",
       "    </tr>\n",
       "  </thead>\n",
       "  <tbody>\n",
       "    <tr>\n",
       "      <th>0</th>\n",
       "      <td>RandomForest</td>\n",
       "      <td>0.841963</td>\n",
       "      <td>None</td>\n",
       "    </tr>\n",
       "    <tr>\n",
       "      <th>1</th>\n",
       "      <td>KNN</td>\n",
       "      <td>0.841963</td>\n",
       "      <td>None</td>\n",
       "    </tr>\n",
       "    <tr>\n",
       "      <th>2</th>\n",
       "      <td>Dnn without dropout</td>\n",
       "      <td>0.975126</td>\n",
       "      <td>0.909813</td>\n",
       "    </tr>\n",
       "    <tr>\n",
       "      <th>3</th>\n",
       "      <td>DNN model with input layer dropout</td>\n",
       "      <td>0.997042</td>\n",
       "      <td>0.999925</td>\n",
       "    </tr>\n",
       "    <tr>\n",
       "      <th>4</th>\n",
       "      <td>DNN model with hidden layer dropout</td>\n",
       "      <td>0.999646</td>\n",
       "      <td>0.999982</td>\n",
       "    </tr>\n",
       "    <tr>\n",
       "      <th>5</th>\n",
       "      <td>DNN model with hidden layer dropout with weigh...</td>\n",
       "      <td>0.975126</td>\n",
       "      <td>0.999778</td>\n",
       "    </tr>\n",
       "  </tbody>\n",
       "</table>\n",
       "</div>"
      ],
      "text/plain": [
       "                                              Models  Accuracy score  \\\n",
       "0                                       RandomForest        0.841963   \n",
       "1                                                KNN        0.841963   \n",
       "2                                Dnn without dropout        0.975126   \n",
       "3                DNN model with input layer dropout         0.997042   \n",
       "4               DNN model with hidden layer dropout         0.999646   \n",
       "5  DNN model with hidden layer dropout with weigh...        0.975126   \n",
       "\n",
       "  Area under ROC curves  \n",
       "0                  None  \n",
       "1                  None  \n",
       "2              0.909813  \n",
       "3              0.999925  \n",
       "4              0.999982  \n",
       "5              0.999778  "
      ]
     },
     "execution_count": 59,
     "metadata": {},
     "output_type": "execute_result"
    }
   ],
   "source": [
    "result_df5=pd.DataFrame(data=[['DNN model with hidden layer dropout with weight constraint ',scores4[1],Model_area4]],\n",
    "                      columns=['Models',\"Accuracy score\",'Area under ROC curves'])\n",
    "result_df = result_df.append(result_df5, ignore_index=True)\n",
    "result_df"
   ]
  },
  {
   "cell_type": "markdown",
   "metadata": {},
   "source": [
    "#### 4.6 Analysis of DNN models by Area under ROC curve"
   ]
  },
  {
   "cell_type": "code",
   "execution_count": 60,
   "metadata": {},
   "outputs": [
    {
     "data": {
      "text/html": [
       "<div>\n",
       "<style scoped>\n",
       "    .dataframe tbody tr th:only-of-type {\n",
       "        vertical-align: middle;\n",
       "    }\n",
       "\n",
       "    .dataframe tbody tr th {\n",
       "        vertical-align: top;\n",
       "    }\n",
       "\n",
       "    .dataframe thead th {\n",
       "        text-align: right;\n",
       "    }\n",
       "</style>\n",
       "<table border=\"1\" class=\"dataframe\">\n",
       "  <thead>\n",
       "    <tr style=\"text-align: right;\">\n",
       "      <th></th>\n",
       "      <th>Models</th>\n",
       "      <th>Accuracy score</th>\n",
       "      <th>Area under ROC curves</th>\n",
       "    </tr>\n",
       "  </thead>\n",
       "  <tbody>\n",
       "    <tr>\n",
       "      <th>0</th>\n",
       "      <td>RandomForest</td>\n",
       "      <td>0.841963</td>\n",
       "      <td>None</td>\n",
       "    </tr>\n",
       "    <tr>\n",
       "      <th>1</th>\n",
       "      <td>KNN</td>\n",
       "      <td>0.841963</td>\n",
       "      <td>None</td>\n",
       "    </tr>\n",
       "    <tr>\n",
       "      <th>2</th>\n",
       "      <td>Dnn without dropout</td>\n",
       "      <td>0.975126</td>\n",
       "      <td>0.909813</td>\n",
       "    </tr>\n",
       "    <tr>\n",
       "      <th>3</th>\n",
       "      <td>DNN model with input layer dropout</td>\n",
       "      <td>0.997042</td>\n",
       "      <td>0.999925</td>\n",
       "    </tr>\n",
       "    <tr>\n",
       "      <th>4</th>\n",
       "      <td>DNN model with hidden layer dropout</td>\n",
       "      <td>0.999646</td>\n",
       "      <td>0.999982</td>\n",
       "    </tr>\n",
       "    <tr>\n",
       "      <th>5</th>\n",
       "      <td>DNN model with hidden layer dropout with weigh...</td>\n",
       "      <td>0.975126</td>\n",
       "      <td>0.999778</td>\n",
       "    </tr>\n",
       "  </tbody>\n",
       "</table>\n",
       "</div>"
      ],
      "text/plain": [
       "                                              Models  Accuracy score  \\\n",
       "0                                       RandomForest        0.841963   \n",
       "1                                                KNN        0.841963   \n",
       "2                                Dnn without dropout        0.975126   \n",
       "3                DNN model with input layer dropout         0.997042   \n",
       "4               DNN model with hidden layer dropout         0.999646   \n",
       "5  DNN model with hidden layer dropout with weigh...        0.975126   \n",
       "\n",
       "  Area under ROC curves  \n",
       "0                  None  \n",
       "1                  None  \n",
       "2              0.909813  \n",
       "3              0.999925  \n",
       "4              0.999982  \n",
       "5              0.999778  "
      ]
     },
     "execution_count": 60,
     "metadata": {},
     "output_type": "execute_result"
    }
   ],
   "source": [
    "# Comparing the accuracy score of each model, we can see that DNN model gives the highest accuracy on prediction\n",
    "# Dnn with hidden dropout layer gives the highest accuracy on prediction of weather tomorrow\n",
    "# Dnn with hidden dropout layer has the highest area under ROC curves \n",
    "\n",
    "result_df"
   ]
  },
  {
   "cell_type": "markdown",
   "metadata": {},
   "source": [
    "In conclusion,DNN model with hidden layer dropout gives the highest accuracy in prediction of weather tomorrow. Then, we shall use it for prediction of weather in the next day."
   ]
  },
  {
   "cell_type": "markdown",
   "metadata": {},
   "source": [
    "### 5. Prediction"
   ]
  },
  {
   "cell_type": "code",
   "execution_count": 61,
   "metadata": {},
   "outputs": [
    {
     "data": {
      "text/plain": [
       "array([[3.3099766e-08],\n",
       "       [1.8223203e-12],\n",
       "       [3.1619105e-15],\n",
       "       ...,\n",
       "       [1.4507523e-14],\n",
       "       [4.8517247e-15],\n",
       "       [1.9761209e-10]], dtype=float32)"
      ]
     },
     "execution_count": 61,
     "metadata": {},
     "output_type": "execute_result"
    }
   ],
   "source": [
    "# Using DNN model with hidden layer dropout to make a prediction\n",
    "\n",
    "Y_prediction = Model3.predict(X)\n",
    "Y_prediction"
   ]
  },
  {
   "cell_type": "code",
   "execution_count": 64,
   "metadata": {},
   "outputs": [
    {
     "data": {
      "text/html": [
       "<div>\n",
       "<style scoped>\n",
       "    .dataframe tbody tr th:only-of-type {\n",
       "        vertical-align: middle;\n",
       "    }\n",
       "\n",
       "    .dataframe tbody tr th {\n",
       "        vertical-align: top;\n",
       "    }\n",
       "\n",
       "    .dataframe thead th {\n",
       "        text-align: right;\n",
       "    }\n",
       "</style>\n",
       "<table border=\"1\" class=\"dataframe\">\n",
       "  <thead>\n",
       "    <tr style=\"text-align: right;\">\n",
       "      <th></th>\n",
       "      <th>RainTomorrow</th>\n",
       "    </tr>\n",
       "  </thead>\n",
       "  <tbody>\n",
       "    <tr>\n",
       "      <th>0</th>\n",
       "      <td>3.309977e-08</td>\n",
       "    </tr>\n",
       "    <tr>\n",
       "      <th>1</th>\n",
       "      <td>1.822320e-12</td>\n",
       "    </tr>\n",
       "    <tr>\n",
       "      <th>2</th>\n",
       "      <td>3.161910e-15</td>\n",
       "    </tr>\n",
       "    <tr>\n",
       "      <th>3</th>\n",
       "      <td>2.485066e-11</td>\n",
       "    </tr>\n",
       "    <tr>\n",
       "      <th>4</th>\n",
       "      <td>1.558577e-11</td>\n",
       "    </tr>\n",
       "    <tr>\n",
       "      <th>...</th>\n",
       "      <td>...</td>\n",
       "    </tr>\n",
       "    <tr>\n",
       "      <th>145455</th>\n",
       "      <td>4.180297e-14</td>\n",
       "    </tr>\n",
       "    <tr>\n",
       "      <th>145456</th>\n",
       "      <td>1.902880e-14</td>\n",
       "    </tr>\n",
       "    <tr>\n",
       "      <th>145457</th>\n",
       "      <td>1.450752e-14</td>\n",
       "    </tr>\n",
       "    <tr>\n",
       "      <th>145458</th>\n",
       "      <td>4.851725e-15</td>\n",
       "    </tr>\n",
       "    <tr>\n",
       "      <th>145459</th>\n",
       "      <td>1.976121e-10</td>\n",
       "    </tr>\n",
       "  </tbody>\n",
       "</table>\n",
       "<p>145460 rows × 1 columns</p>\n",
       "</div>"
      ],
      "text/plain": [
       "        RainTomorrow\n",
       "0       3.309977e-08\n",
       "1       1.822320e-12\n",
       "2       3.161910e-15\n",
       "3       2.485066e-11\n",
       "4       1.558577e-11\n",
       "...              ...\n",
       "145455  4.180297e-14\n",
       "145456  1.902880e-14\n",
       "145457  1.450752e-14\n",
       "145458  4.851725e-15\n",
       "145459  1.976121e-10\n",
       "\n",
       "[145460 rows x 1 columns]"
      ]
     },
     "execution_count": 64,
     "metadata": {},
     "output_type": "execute_result"
    }
   ],
   "source": [
    "# Cast our prediction of weather tomorrow to a DataFrame\n",
    "\n",
    "Y_prediction_df=pd.DataFrame(Y_prediction, columns=['RainTomorrow'])\n",
    "Y_prediction_df"
   ]
  },
  {
   "cell_type": "code",
   "execution_count": 65,
   "metadata": {},
   "outputs": [],
   "source": [
    "# Replace all numbers in the prediction to 'Yes' and 'No'\n",
    "\n",
    "for x in Y_prediction_df['RainTomorrow']:\n",
    "    if x<0.5:\n",
    "        Y_prediction_df['RainTomorrow']=Y_prediction_df['RainTomorrow'].replace(x,\"No\")\n",
    "    else:\n",
    "        Y_prediction_df['RainTomorrow']=Y_prediction_df['RainTomorrow'].replace(x,\"Yes\")"
   ]
  },
  {
   "cell_type": "code",
   "execution_count": 66,
   "metadata": {},
   "outputs": [
    {
     "data": {
      "text/plain": [
       "<matplotlib.axes._subplots.AxesSubplot at 0x22f63aaf1f0>"
      ]
     },
     "execution_count": 66,
     "metadata": {},
     "output_type": "execute_result"
    },
    {
     "data": {
      "image/png": "[encoded data removed]",
      "text/plain": [
       "<Figure size 432x288 with 1 Axes>"
      ]
     },
     "metadata": {
      "needs_background": "light"
     },
     "output_type": "display_data"
    }
   ],
   "source": [
    "# Visulization of the prediction of weather tomorrow\n",
    "\n",
    "sns.countplot(Y_prediction_df[\"RainTomorrow\"], label='Total')"
   ]
  },
  {
   "cell_type": "code",
   "execution_count": 67,
   "metadata": {},
   "outputs": [
    {
     "name": "stdout",
     "output_type": "stream",
     "text": [
      "Rain:  141843\n",
      "Not Rain :  3617\n"
     ]
    }
   ],
   "source": [
    "# Numbers of raining days in the next day\n",
    "# Numbers of not raining days in the next day\n",
    "\n",
    "Rain_pred, NotRain_pred = Y_prediction_df[\"RainTomorrow\"].value_counts()\n",
    "print('Rain: ',Rain_pred)\n",
    "print('Not Rain : ',NotRain_pred)\n"
   ]
  }
 ],
 "metadata": {
  "kernelspec": {
   "display_name": "Python 3",
   "language": "python",
   "name": "python3"
  },
  "language_info": {
   "codemirror_mode": {
    "name": "ipython",
    "version": 3
   },
   "file_extension": ".py",
   "mimetype": "text/x-python",
   "name": "python",
   "nbconvert_exporter": "python",
   "pygments_lexer": "ipython3",
   "version": "3.8.3"
  }
 },
 "nbformat": 4,
 "nbformat_minor": 4
}
